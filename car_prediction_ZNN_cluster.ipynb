{
 "cells": [
  {
   "cell_type": "code",
   "execution_count": 160,
   "metadata": {
    "code_folding": [
     0
    ]
   },
   "outputs": [],
   "source": [
    "#packages\n",
    "import pandas as pd\n",
    "import sklearn # make sure this is installed in your environment.\n",
    "from sklearn.datasets import *\n",
    "from sklearn import tree\n",
    "from sklearn.naive_bayes import BernoulliNB\n",
    "from sklearn.linear_model import SGDClassifier\n",
    "from sklearn.svm import SVC\n",
    "import math\n",
    "from sklearn.model_selection import StratifiedShuffleSplit\n",
    "import numpy as np\n",
    "from sklearn.model_selection import train_test_split\n",
    "from sklearn.linear_model import LogisticRegression\n",
    "from sklearn.metrics import accuracy_score\n",
    "from sklearn.ensemble import AdaBoostClassifier\n",
    "from sklearn.ensemble import RandomForestClassifier\n",
    "from sklearn.ensemble import GradientBoostingClassifier\n",
    "from xgboost import XGBClassifier\n",
    "from xgboost import plot_tree\n",
    "import matplotlib.pyplot as plt\n",
    "from sklearn.linear_model import LogisticRegressionCV\n",
    "\n",
    "from sklearn.linear_model import Lasso, LogisticRegression\n",
    "from sklearn.feature_selection import SelectFromModel\n",
    "from sklearn.preprocessing import StandardScaler\n",
    "from sklearn.model_selection import GridSearchCV\n",
    "\n",
    "from sklearn.cluster import KMeans\n",
    "from typing import Tuple\n",
    "from sklearn.model_selection import KFold\n",
    "import math\n",
    "from sklearn.cluster import AffinityPropagation\n",
    "from sklearn.cluster import AgglomerativeClustering\n",
    "from sklearn.cluster import Birch\n",
    "from sklearn.cluster import DBSCAN\n",
    "from sklearn.cluster import MiniBatchKMeans\n",
    "from sklearn.cluster import MeanShift\n",
    "from sklearn.cluster import OPTICS\n",
    "from sklearn.cluster import SpectralClustering\n",
    "from sklearn.mixture import GaussianMixture\n",
    "\n",
    "from sklearn.decomposition import PCA\n",
    "from sklearn.decomposition import IncrementalPCA\n",
    "from sklearn.feature_selection import VarianceThreshold"
   ]
  },
  {
   "cell_type": "code",
   "execution_count": 5,
   "metadata": {
    "code_folding": [
     0
    ]
   },
   "outputs": [],
   "source": [
    "#dummies\n",
    "df = pd.read_csv(r'Mid07new_with_dist1_dist10_small.txt',sep=',')\n",
    "df = df[['realprice1', 'realprice2', 'realprice3', 'realprice4',\n",
    "       'br1', 'br2', 'br3', 'br4', 'residual.price.1', 'residual.price.2',\n",
    "       'residual.price.3', 'residual.price.4','TRADEMANUFACTURER',\n",
    "       'TRADENAME', 'TRADEMODEL', 'TRADEORIGIN', 'TRADEBODYTP',\n",
    "       'TRADECYLINDER',\"CUSTLATITUDE\",\"CUSTLONGITUDE\",'ZIPCODE','brand']].copy()\n",
    "df = pd.get_dummies(df,drop_first=True)"
   ]
  },
  {
   "cell_type": "code",
   "execution_count": 195,
   "metadata": {},
   "outputs": [],
   "source": [
    "df = df[['ZIPCODE','brand']].copy()"
   ]
  },
  {
   "cell_type": "code",
   "execution_count": 205,
   "metadata": {},
   "outputs": [],
   "source": [
    "df = df.drop([\"CUSTLATITUDE\",\"CUSTLONGITUDE\",'ZIPCODE'], axis=1)"
   ]
  },
  {
   "cell_type": "code",
   "execution_count": 209,
   "metadata": {
    "code_folding": [
     0
    ]
   },
   "outputs": [],
   "source": [
    "#split\n",
    "X = df.drop(['brand'], axis=1)\n",
    "y = df.brand\n",
    "def StratifiedSampling(df, test_size):\n",
    "    X = df.drop(['brand'], axis=1)\n",
    "    y = df.brand\n",
    "    sss = StratifiedShuffleSplit(n_splits=1, test_size=test_size, random_state=0)    \n",
    "    sss.get_n_splits(X, y)\n",
    "    for train_index, test_index in sss.split(X, y):\n",
    "        train = df.iloc[train_index,:]\n",
    "        test = df.iloc[test_index,:]\n",
    "    return train,test\n",
    "train,test = StratifiedSampling(df, 0.2)\n",
    "X_train = train.drop(['brand'], axis=1)\n",
    "y_train = train.brand\n",
    "X_test = test.drop(['brand'], axis=1)\n",
    "y_test = test.brand"
   ]
  },
  {
   "cell_type": "code",
   "execution_count": 27,
   "metadata": {
    "code_folding": [
     0
    ]
   },
   "outputs": [],
   "source": [
    "def MAD(pred_prob,y_test):\n",
    "    MAD_list=[]\n",
    "    for i in range(len(y_test)):\n",
    "        mad_row = [1-n if j==y_test[i]-1 else n for j, n in enumerate(pred_prob[i]) ]\n",
    "        MAD_list.append(sum(mad_row))\n",
    "    return sum(MAD_list)/len(MAD_list)"
   ]
  },
  {
   "cell_type": "code",
   "execution_count": 193,
   "metadata": {},
   "outputs": [],
   "source": [
    "y_comp = y_test.copy()"
   ]
  },
  {
   "cell_type": "markdown",
   "metadata": {},
   "source": [
    "## ZNN"
   ]
  },
  {
   "cell_type": "code",
   "execution_count": 184,
   "metadata": {
    "code_folding": [
     0
    ]
   },
   "outputs": [],
   "source": [
    "#ZNN\n",
    "zip_dict = train.groupby('ZIPCODE')['brand'].apply(list).to_dict()\n",
    "pred_prob,fin_pred,_01mad = [],[],[]\n",
    "test_list = []\n",
    "for z in X_test.ZIPCODE:\n",
    "    if z in zip_dict:\n",
    "        b_list = zip_dict.get(z)\n",
    "        b_prob = [float(b_list.count(i))/len(b_list) for i in [1,2,3,4]] #prob distribution for each brand\n",
    "        pred_label = b_prob.index(max(b_prob))+1\n",
    "        test_list.append(0)\n",
    "    else:\n",
    "        b_prob = [0.25,0.25,0.25,0.25]\n",
    "        pred_label = 0\n",
    "        test_list.append(1)\n",
    "    pred_prob.append(b_prob) \n",
    "    fin_pred.append(pred_label) \n",
    "    pred_label_list = [0]*4\n",
    "    pred_label_list[pred_label-1]=1\n",
    "    _01mad.append(pred_label_list)"
   ]
  },
  {
   "cell_type": "code",
   "execution_count": 185,
   "metadata": {
    "code_folding": [
     0
    ],
    "collapsed": true
   },
   "outputs": [
    {
     "name": "stdout",
     "output_type": "stream",
     "text": [
      "0or1MAD:  0.88\n",
      "normMAD:  0.93\n",
      "accuracy:  0.56\n"
     ]
    }
   ],
   "source": [
    "#ZNN score\n",
    "new_p,new_y,new_prob,new_01=[],[],[],[]\n",
    "for i,j,h,m in zip(fin_pred,y_test,pred_prob,_01mad):\n",
    "    if i != 0:\n",
    "        new_p.append(i)\n",
    "        new_y.append(j)\n",
    "        new_prob.append(h)\n",
    "        new_01.append(m)\n",
    "print('0or1MAD: ', round(MAD(new_01,list(new_y)),2))\n",
    "print('normMAD: ', round(MAD(new_prob,list(new_y)),2))\n",
    "print('accuracy: ', round(accuracy_score(new_y, new_p),2))"
   ]
  },
  {
   "cell_type": "markdown",
   "metadata": {},
   "source": [
    "## Lat Long  NN"
   ]
  },
  {
   "cell_type": "code",
   "execution_count": 6,
   "metadata": {},
   "outputs": [],
   "source": [
    "df = df[[\"CUSTLATITUDE\",\"CUSTLONGITUDE\",'brand']].copy()"
   ]
  },
  {
   "cell_type": "code",
   "execution_count": 198,
   "metadata": {
    "code_folding": [
     0
    ]
   },
   "outputs": [],
   "source": [
    "def haversine_distance(lat1,lon1,lat2,lon2):\n",
    "    R = 6371e3; #metres\n",
    "    φ1 = lat1 * math.pi/180; # φ, λ in radians\n",
    "    φ2 = lat2 * math.pi/180;\n",
    "    Δφ = (lat2-lat1) * math.pi/180;\n",
    "    Δλ = (lon2-lon1) * math.pi/180;\n",
    "\n",
    "    a = math.sin(Δφ/2) * math.sin(Δφ/2) +math.cos(φ1) * math.cos(φ2) *math.sin(Δλ/2) * math.sin(Δλ/2);\n",
    "    c = 2 * math.atan2(math.sqrt(a), math.sqrt(1-a));\n",
    "    d = R * c; # in metres\\\n",
    "    return d"
   ]
  },
  {
   "cell_type": "code",
   "execution_count": 212,
   "metadata": {
    "code_folding": [
     1
    ]
   },
   "outputs": [],
   "source": [
    "label_list,fin_list=[],[]\n",
    "for lat1,lon1 in zip(X_test.CUSTLATITUDE, X_test.CUSTLONGITUDE):\n",
    "    min_d =  float('inf')\n",
    "    for lat2,lon2,l in zip(X_train.CUSTLATITUDE, X_train.CUSTLONGITUDE,y_train):\n",
    "        d = haversine_distance(lat1,lon1,lat2,lon2)\n",
    "        if d < min_d:\n",
    "            min_d = d\n",
    "            min_label_list = [l]\n",
    "        elif d == min_d:\n",
    "            min_label_list.append(l)\n",
    "    pred_label_list = [0]*4\n",
    "    pred_label_list[min_label_list[0]-1]=1\n",
    "    label_list.append(min_label_list[0])\n",
    "    fin_list.append(pred_label_list)"
   ]
  },
  {
   "cell_type": "code",
   "execution_count": 213,
   "metadata": {
    "collapsed": true
   },
   "outputs": [
    {
     "name": "stdout",
     "output_type": "stream",
     "text": [
      "0or1MAD:  0.86\n",
      "accuracy:  0.57\n"
     ]
    }
   ],
   "source": [
    "print('0or1MAD: ', round(MAD(fin_list,list(y_test)),2))\n",
    "print('accuracy: ', round(accuracy_score(y_test, label_list),2))"
   ]
  },
  {
   "cell_type": "code",
   "execution_count": 225,
   "metadata": {},
   "outputs": [],
   "source": [
    "y_comp['latlong']=pd.DataFrame(label_list)"
   ]
  },
  {
   "cell_type": "markdown",
   "metadata": {},
   "source": [
    "## Cluster"
   ]
  },
  {
   "cell_type": "code",
   "execution_count": 228,
   "metadata": {
    "code_folding": []
   },
   "outputs": [],
   "source": [
    "#load and prepare data\n",
    "df = pd.read_csv(r'Mid07new_with_dist1_dist10_small.txt',sep=',')\n",
    "df = df[['realprice1', 'realprice2', 'realprice3', 'realprice4',\n",
    "       'br1', 'br2', 'br3', 'br4', 'residual.price.1', 'residual.price.2',\n",
    "       'residual.price.3', 'residual.price.4','TRADEMANUFACTURER',\n",
    "       'TRADENAME', 'TRADEMODEL', 'TRADEORIGIN', 'TRADEBODYTP',\n",
    "       'TRADECYLINDER',\"CUSTLATITUDE\",\"CUSTLONGITUDE\",'ZIPCODE','brand']].copy()\n",
    "df = pd.get_dummies(df,drop_first=True)\n",
    "df = df.drop([\"CUSTLATITUDE\",\"CUSTLONGITUDE\",'ZIPCODE'], axis=1)\n",
    "##split\n",
    "X = df.drop(['brand'], axis=1)\n",
    "y = df.brand"
   ]
  },
  {
   "cell_type": "code",
   "execution_count": 229,
   "metadata": {},
   "outputs": [],
   "source": [
    "#LA dataset\n",
    "df_LA = pd.read_csv(r'LA07 (2019 0612) with DIST1.txt',sep=' ')\n",
    "df_LA = df_LA[['realprice1', 'realprice2', 'realprice3', 'realprice4',\n",
    "       'br1', 'br2', 'br3', 'br4', 'X1', 'X2',\n",
    "       'X3', 'X4','TRADEMANUFACTURER',\n",
    "       'TRADENAME', 'TRADEMODEL', 'TRADEORIGIN', 'TRADEBODYTP',\n",
    "       'TRADECYLINDER','brand']].copy()\n",
    "df_LA=df_LA.rename(columns = {'X1':'residual.price.1','X2':'residual.price.2','X3':'residual.price.3','X4':'residual.price.4'})\n",
    "\n",
    "##concat\n",
    "df_LA = pd.get_dummies(df_LA,drop_first=True)\n",
    "col_list = (df_LA.append([df])).columns.tolist()\n",
    "df = df.reindex(columns=col_list, fill_value=0)\n",
    "df_LA = df_LA.reindex(columns=col_list, fill_value=0)\n",
    "#df = pd.concat([df,df_LA]).reset_index()\n",
    "df = df_LA.copy()\n",
    "##split\n",
    "X = df.drop(['brand'], axis=1)\n",
    "y = df.brand"
   ]
  },
  {
   "cell_type": "code",
   "execution_count": 223,
   "metadata": {},
   "outputs": [
    {
     "data": {
      "text/plain": [
       "0       3\n",
       "1       1\n",
       "2       1\n",
       "3       3\n",
       "4       1\n",
       "       ..\n",
       "3300    2\n",
       "3301    1\n",
       "3302    2\n",
       "3303    2\n",
       "3304    2\n",
       "Name: brand, Length: 3305, dtype: int64"
      ]
     },
     "execution_count": 223,
     "metadata": {},
     "output_type": "execute_result"
    }
   ],
   "source": [
    "y"
   ]
  },
  {
   "cell_type": "code",
   "execution_count": 230,
   "metadata": {
    "code_folding": []
   },
   "outputs": [
    {
     "ename": "ValueError",
     "evalue": "Input contains NaN, infinity or a value too large for dtype('float64').",
     "output_type": "error",
     "traceback": [
      "\u001b[1;31m---------------------------------------------------------------------------\u001b[0m",
      "\u001b[1;31mValueError\u001b[0m                                Traceback (most recent call last)",
      "\u001b[1;32m<ipython-input-230-19a2efe21513>\u001b[0m in \u001b[0;36m<module>\u001b[1;34m\u001b[0m\n\u001b[0;32m     13\u001b[0m     \u001b[0mdf_pca\u001b[0m\u001b[1;33m[\u001b[0m\u001b[1;34m'brand'\u001b[0m\u001b[1;33m]\u001b[0m \u001b[1;33m=\u001b[0m \u001b[0my\u001b[0m\u001b[1;33m\u001b[0m\u001b[1;33m\u001b[0m\u001b[0m\n\u001b[0;32m     14\u001b[0m     \u001b[0mcluster_dict\u001b[0m \u001b[1;33m=\u001b[0m \u001b[0mdf_pca\u001b[0m\u001b[1;33m.\u001b[0m\u001b[0mgroupby\u001b[0m\u001b[1;33m(\u001b[0m\u001b[1;34m'clusters'\u001b[0m\u001b[1;33m)\u001b[0m\u001b[1;33m[\u001b[0m\u001b[1;34m'brand'\u001b[0m\u001b[1;33m]\u001b[0m\u001b[1;33m.\u001b[0m\u001b[0mapply\u001b[0m\u001b[1;33m(\u001b[0m\u001b[0mlist\u001b[0m\u001b[1;33m)\u001b[0m\u001b[1;33m.\u001b[0m\u001b[0mto_dict\u001b[0m\u001b[1;33m(\u001b[0m\u001b[1;33m)\u001b[0m\u001b[1;33m\u001b[0m\u001b[1;33m\u001b[0m\u001b[0m\n\u001b[1;32m---> 15\u001b[1;33m     \u001b[0mX_train\u001b[0m\u001b[1;33m,\u001b[0m\u001b[0my_train\u001b[0m\u001b[1;33m,\u001b[0m\u001b[0mX_test\u001b[0m\u001b[1;33m,\u001b[0m\u001b[0my_test\u001b[0m \u001b[1;33m=\u001b[0m \u001b[0mStratifiedSampling\u001b[0m\u001b[1;33m(\u001b[0m\u001b[0mdf_pca\u001b[0m\u001b[1;33m,\u001b[0m \u001b[1;36m0.2\u001b[0m\u001b[1;33m)\u001b[0m\u001b[1;33m\u001b[0m\u001b[1;33m\u001b[0m\u001b[0m\n\u001b[0m\u001b[0;32m     16\u001b[0m     \u001b[0mpred_prob\u001b[0m\u001b[1;33m,\u001b[0m\u001b[0mfin_pred\u001b[0m\u001b[1;33m,\u001b[0m\u001b[0m_01mad\u001b[0m \u001b[1;33m=\u001b[0m \u001b[0mcluster_predict\u001b[0m\u001b[1;33m(\u001b[0m\u001b[0mX_test\u001b[0m\u001b[1;33m,\u001b[0m\u001b[0mcluster_dict\u001b[0m\u001b[1;33m)\u001b[0m\u001b[1;33m\u001b[0m\u001b[1;33m\u001b[0m\u001b[0m\n\u001b[0;32m     17\u001b[0m     \u001b[0mdf_result\u001b[0m\u001b[1;33m[\u001b[0m\u001b[0mn\u001b[0m\u001b[1;33m]\u001b[0m \u001b[1;33m=\u001b[0m \u001b[1;33m[\u001b[0m\u001b[0mround\u001b[0m\u001b[1;33m(\u001b[0m\u001b[0mMAD\u001b[0m\u001b[1;33m(\u001b[0m\u001b[0m_01mad\u001b[0m\u001b[1;33m,\u001b[0m\u001b[0mlist\u001b[0m\u001b[1;33m(\u001b[0m\u001b[0my_test\u001b[0m\u001b[1;33m)\u001b[0m\u001b[1;33m)\u001b[0m\u001b[1;33m,\u001b[0m\u001b[1;36m2\u001b[0m\u001b[1;33m)\u001b[0m\u001b[1;33m,\u001b[0m\u001b[0mround\u001b[0m\u001b[1;33m(\u001b[0m\u001b[0mMAD\u001b[0m\u001b[1;33m(\u001b[0m\u001b[0mpred_prob\u001b[0m\u001b[1;33m,\u001b[0m\u001b[0mlist\u001b[0m\u001b[1;33m(\u001b[0m\u001b[0my_test\u001b[0m\u001b[1;33m)\u001b[0m\u001b[1;33m)\u001b[0m\u001b[1;33m,\u001b[0m\u001b[1;36m2\u001b[0m\u001b[1;33m)\u001b[0m\u001b[1;33m,\u001b[0m\u001b[0mround\u001b[0m\u001b[1;33m(\u001b[0m\u001b[0maccuracy_score\u001b[0m\u001b[1;33m(\u001b[0m\u001b[0my_test\u001b[0m\u001b[1;33m,\u001b[0m \u001b[0mfin_pred\u001b[0m\u001b[1;33m)\u001b[0m\u001b[1;33m,\u001b[0m\u001b[1;36m2\u001b[0m\u001b[1;33m)\u001b[0m\u001b[1;33m]\u001b[0m\u001b[1;33m\u001b[0m\u001b[1;33m\u001b[0m\u001b[0m\n",
      "\u001b[1;32m<ipython-input-23-c33a6e6ccefd>\u001b[0m in \u001b[0;36mStratifiedSampling\u001b[1;34m(df, test_size)\u001b[0m\n\u001b[0;32m      5\u001b[0m     \u001b[0msss\u001b[0m \u001b[1;33m=\u001b[0m \u001b[0mStratifiedShuffleSplit\u001b[0m\u001b[1;33m(\u001b[0m\u001b[0mn_splits\u001b[0m\u001b[1;33m=\u001b[0m\u001b[1;36m1\u001b[0m\u001b[1;33m,\u001b[0m \u001b[0mtest_size\u001b[0m\u001b[1;33m=\u001b[0m\u001b[0mtest_size\u001b[0m\u001b[1;33m,\u001b[0m \u001b[0mrandom_state\u001b[0m\u001b[1;33m=\u001b[0m\u001b[1;36m0\u001b[0m\u001b[1;33m)\u001b[0m\u001b[1;33m\u001b[0m\u001b[1;33m\u001b[0m\u001b[0m\n\u001b[0;32m      6\u001b[0m     \u001b[0msss\u001b[0m\u001b[1;33m.\u001b[0m\u001b[0mget_n_splits\u001b[0m\u001b[1;33m(\u001b[0m\u001b[0mX\u001b[0m\u001b[1;33m,\u001b[0m \u001b[0my\u001b[0m\u001b[1;33m)\u001b[0m\u001b[1;33m\u001b[0m\u001b[1;33m\u001b[0m\u001b[0m\n\u001b[1;32m----> 7\u001b[1;33m     \u001b[1;32mfor\u001b[0m \u001b[0mtrain_index\u001b[0m\u001b[1;33m,\u001b[0m \u001b[0mtest_index\u001b[0m \u001b[1;32min\u001b[0m \u001b[0msss\u001b[0m\u001b[1;33m.\u001b[0m\u001b[0msplit\u001b[0m\u001b[1;33m(\u001b[0m\u001b[0mX\u001b[0m\u001b[1;33m,\u001b[0m \u001b[0my\u001b[0m\u001b[1;33m)\u001b[0m\u001b[1;33m:\u001b[0m\u001b[1;33m\u001b[0m\u001b[1;33m\u001b[0m\u001b[0m\n\u001b[0m\u001b[0;32m      8\u001b[0m         \u001b[0mtrain\u001b[0m \u001b[1;33m=\u001b[0m \u001b[0mdf\u001b[0m\u001b[1;33m.\u001b[0m\u001b[0miloc\u001b[0m\u001b[1;33m[\u001b[0m\u001b[0mtrain_index\u001b[0m\u001b[1;33m,\u001b[0m\u001b[1;33m:\u001b[0m\u001b[1;33m]\u001b[0m\u001b[1;33m\u001b[0m\u001b[1;33m\u001b[0m\u001b[0m\n\u001b[0;32m      9\u001b[0m         \u001b[0mtest\u001b[0m \u001b[1;33m=\u001b[0m \u001b[0mdf\u001b[0m\u001b[1;33m.\u001b[0m\u001b[0miloc\u001b[0m\u001b[1;33m[\u001b[0m\u001b[0mtest_index\u001b[0m\u001b[1;33m,\u001b[0m\u001b[1;33m:\u001b[0m\u001b[1;33m]\u001b[0m\u001b[1;33m\u001b[0m\u001b[1;33m\u001b[0m\u001b[0m\n",
      "\u001b[1;32m~\\anaconda3\\lib\\site-packages\\sklearn\\model_selection\\_split.py\u001b[0m in \u001b[0;36msplit\u001b[1;34m(self, X, y, groups)\u001b[0m\n\u001b[0;32m   1744\u001b[0m         \u001b[0mto\u001b[0m \u001b[0man\u001b[0m \u001b[0minteger\u001b[0m\u001b[1;33m.\u001b[0m\u001b[1;33m\u001b[0m\u001b[1;33m\u001b[0m\u001b[0m\n\u001b[0;32m   1745\u001b[0m         \"\"\"\n\u001b[1;32m-> 1746\u001b[1;33m         \u001b[0my\u001b[0m \u001b[1;33m=\u001b[0m \u001b[0mcheck_array\u001b[0m\u001b[1;33m(\u001b[0m\u001b[0my\u001b[0m\u001b[1;33m,\u001b[0m \u001b[0mensure_2d\u001b[0m\u001b[1;33m=\u001b[0m\u001b[1;32mFalse\u001b[0m\u001b[1;33m,\u001b[0m \u001b[0mdtype\u001b[0m\u001b[1;33m=\u001b[0m\u001b[1;32mNone\u001b[0m\u001b[1;33m)\u001b[0m\u001b[1;33m\u001b[0m\u001b[1;33m\u001b[0m\u001b[0m\n\u001b[0m\u001b[0;32m   1747\u001b[0m         \u001b[1;32mreturn\u001b[0m \u001b[0msuper\u001b[0m\u001b[1;33m(\u001b[0m\u001b[1;33m)\u001b[0m\u001b[1;33m.\u001b[0m\u001b[0msplit\u001b[0m\u001b[1;33m(\u001b[0m\u001b[0mX\u001b[0m\u001b[1;33m,\u001b[0m \u001b[0my\u001b[0m\u001b[1;33m,\u001b[0m \u001b[0mgroups\u001b[0m\u001b[1;33m)\u001b[0m\u001b[1;33m\u001b[0m\u001b[1;33m\u001b[0m\u001b[0m\n\u001b[0;32m   1748\u001b[0m \u001b[1;33m\u001b[0m\u001b[0m\n",
      "\u001b[1;32m~\\anaconda3\\lib\\site-packages\\sklearn\\utils\\validation.py\u001b[0m in \u001b[0;36minner_f\u001b[1;34m(*args, **kwargs)\u001b[0m\n\u001b[0;32m     71\u001b[0m                           FutureWarning)\n\u001b[0;32m     72\u001b[0m         \u001b[0mkwargs\u001b[0m\u001b[1;33m.\u001b[0m\u001b[0mupdate\u001b[0m\u001b[1;33m(\u001b[0m\u001b[1;33m{\u001b[0m\u001b[0mk\u001b[0m\u001b[1;33m:\u001b[0m \u001b[0marg\u001b[0m \u001b[1;32mfor\u001b[0m \u001b[0mk\u001b[0m\u001b[1;33m,\u001b[0m \u001b[0marg\u001b[0m \u001b[1;32min\u001b[0m \u001b[0mzip\u001b[0m\u001b[1;33m(\u001b[0m\u001b[0msig\u001b[0m\u001b[1;33m.\u001b[0m\u001b[0mparameters\u001b[0m\u001b[1;33m,\u001b[0m \u001b[0margs\u001b[0m\u001b[1;33m)\u001b[0m\u001b[1;33m}\u001b[0m\u001b[1;33m)\u001b[0m\u001b[1;33m\u001b[0m\u001b[1;33m\u001b[0m\u001b[0m\n\u001b[1;32m---> 73\u001b[1;33m         \u001b[1;32mreturn\u001b[0m \u001b[0mf\u001b[0m\u001b[1;33m(\u001b[0m\u001b[1;33m**\u001b[0m\u001b[0mkwargs\u001b[0m\u001b[1;33m)\u001b[0m\u001b[1;33m\u001b[0m\u001b[1;33m\u001b[0m\u001b[0m\n\u001b[0m\u001b[0;32m     74\u001b[0m     \u001b[1;32mreturn\u001b[0m \u001b[0minner_f\u001b[0m\u001b[1;33m\u001b[0m\u001b[1;33m\u001b[0m\u001b[0m\n\u001b[0;32m     75\u001b[0m \u001b[1;33m\u001b[0m\u001b[0m\n",
      "\u001b[1;32m~\\anaconda3\\lib\\site-packages\\sklearn\\utils\\validation.py\u001b[0m in \u001b[0;36mcheck_array\u001b[1;34m(array, accept_sparse, accept_large_sparse, dtype, order, copy, force_all_finite, ensure_2d, allow_nd, ensure_min_samples, ensure_min_features, estimator)\u001b[0m\n\u001b[0;32m    643\u001b[0m \u001b[1;33m\u001b[0m\u001b[0m\n\u001b[0;32m    644\u001b[0m         \u001b[1;32mif\u001b[0m \u001b[0mforce_all_finite\u001b[0m\u001b[1;33m:\u001b[0m\u001b[1;33m\u001b[0m\u001b[1;33m\u001b[0m\u001b[0m\n\u001b[1;32m--> 645\u001b[1;33m             _assert_all_finite(array,\n\u001b[0m\u001b[0;32m    646\u001b[0m                                allow_nan=force_all_finite == 'allow-nan')\n\u001b[0;32m    647\u001b[0m \u001b[1;33m\u001b[0m\u001b[0m\n",
      "\u001b[1;32m~\\anaconda3\\lib\\site-packages\\sklearn\\utils\\validation.py\u001b[0m in \u001b[0;36m_assert_all_finite\u001b[1;34m(X, allow_nan, msg_dtype)\u001b[0m\n\u001b[0;32m     95\u001b[0m                 not allow_nan and not np.isfinite(X).all()):\n\u001b[0;32m     96\u001b[0m             \u001b[0mtype_err\u001b[0m \u001b[1;33m=\u001b[0m \u001b[1;34m'infinity'\u001b[0m \u001b[1;32mif\u001b[0m \u001b[0mallow_nan\u001b[0m \u001b[1;32melse\u001b[0m \u001b[1;34m'NaN, infinity'\u001b[0m\u001b[1;33m\u001b[0m\u001b[1;33m\u001b[0m\u001b[0m\n\u001b[1;32m---> 97\u001b[1;33m             raise ValueError(\n\u001b[0m\u001b[0;32m     98\u001b[0m                     \u001b[0mmsg_err\u001b[0m\u001b[1;33m.\u001b[0m\u001b[0mformat\u001b[0m\u001b[1;33m\u001b[0m\u001b[1;33m\u001b[0m\u001b[0m\n\u001b[0;32m     99\u001b[0m                     (type_err,\n",
      "\u001b[1;31mValueError\u001b[0m: Input contains NaN, infinity or a value too large for dtype('float64')."
     ]
    }
   ],
   "source": [
    "#PCA\n",
    "df_result = pd.DataFrame()\n",
    "df_result['scores'] = ['0or1MAD','normMAD','accuracy']\n",
    "\n",
    "for n in [10,30,50,100]:\n",
    "    pca = PCA(n_components=n).fit(X)\n",
    "    #pca = IncrementalPCA(n_components=n).fit(X)\n",
    "    #sel = VarianceThreshold(threshold=(.8 * (1 - .8)))\n",
    "    X_sel = pd.DataFrame(pca.transform(X))\n",
    "    #X_sel = pd.DataFrame(sel.fit_transform(X))\n",
    "    X_sel = get_clusters(X_sel,'AffinityPropagation',7)\n",
    "    df_pca = X_sel.copy()\n",
    "    df_pca['brand'] = y\n",
    "    cluster_dict = df_pca.groupby('clusters')['brand'].apply(list).to_dict()\n",
    "    X_train,y_train,X_test,y_test = StratifiedSampling(df_pca, 0.2)\n",
    "    pred_prob,fin_pred,_01mad = cluster_predict(X_test,cluster_dict)\n",
    "    df_result[n] = [round(MAD(_01mad,list(y_test)),2),round(MAD(pred_prob,list(y_test)),2),round(accuracy_score(y_test, fin_pred),2)]"
   ]
  },
  {
   "cell_type": "code",
   "execution_count": null,
   "metadata": {},
   "outputs": [],
   "source": [
    "df_result.set_index('scores')"
   ]
  },
  {
   "cell_type": "code",
   "execution_count": 222,
   "metadata": {},
   "outputs": [
    {
     "data": {
      "text/html": [
       "<div>\n",
       "<style scoped>\n",
       "    .dataframe tbody tr th:only-of-type {\n",
       "        vertical-align: middle;\n",
       "    }\n",
       "\n",
       "    .dataframe tbody tr th {\n",
       "        vertical-align: top;\n",
       "    }\n",
       "\n",
       "    .dataframe thead th {\n",
       "        text-align: right;\n",
       "    }\n",
       "</style>\n",
       "<table border=\"1\" class=\"dataframe\">\n",
       "  <thead>\n",
       "    <tr style=\"text-align: right;\">\n",
       "      <th></th>\n",
       "      <th>100</th>\n",
       "    </tr>\n",
       "    <tr>\n",
       "      <th>scores</th>\n",
       "      <th></th>\n",
       "    </tr>\n",
       "  </thead>\n",
       "  <tbody>\n",
       "    <tr>\n",
       "      <th>0or1MAD</th>\n",
       "      <td>1.13</td>\n",
       "    </tr>\n",
       "    <tr>\n",
       "      <th>normMAD</th>\n",
       "      <td>1.33</td>\n",
       "    </tr>\n",
       "    <tr>\n",
       "      <th>accuracy</th>\n",
       "      <td>0.44</td>\n",
       "    </tr>\n",
       "  </tbody>\n",
       "</table>\n",
       "</div>"
      ],
      "text/plain": [
       "           100\n",
       "scores        \n",
       "0or1MAD   1.13\n",
       "normMAD   1.33\n",
       "accuracy  0.44"
      ]
     },
     "execution_count": 222,
     "metadata": {},
     "output_type": "execute_result"
    }
   ],
   "source": [
    "df_result.set_index('scores')"
   ]
  },
  {
   "cell_type": "code",
   "execution_count": 195,
   "metadata": {
    "code_folding": []
   },
   "outputs": [],
   "source": [
    "def train_model(X, model, n_clusters):\n",
    "    if model == 'kmean':\n",
    "        clustering = KMeans(n_clusters=n_clusters, random_state=42)\n",
    "    if model == 'AffinityPropagation':\n",
    "        clustering = AffinityPropagation(damping=0.9, random_state=42,max_iter=4000)    \n",
    "    if model == 'AgglomerativeClustering':\n",
    "        clustering = AgglomerativeClustering(n_clusters=9)\n",
    "    if model == 'Birch':\n",
    "        clustering = Birch(threshold=0.01, n_clusters=9)\n",
    "    if model == 'DBSCAN':\n",
    "        clustering = DBSCAN(eps=0.30, min_samples=9)    \n",
    "    if model == 'MiniBatchKMeans':\n",
    "        clustering = MiniBatchKMeans(n_clusters=n_clusters)       \n",
    "    if model == 'MeanShift':\n",
    "        clustering = MeanShift()\n",
    "    if model == 'OPTICS':\n",
    "        clustering = OPTICS(eps=0.8, min_samples=10)   \n",
    "    if model == 'SpectralClustering':\n",
    "        clustering = SpectralClustering(n_clusters=7)\n",
    "    if model == 'GaussianMixture':\n",
    "        clustering = GaussianMixture(n_components=7)\n",
    "    clustering.fit(X)\n",
    "    return clustering "
   ]
  },
  {
   "cell_type": "code",
   "execution_count": 11,
   "metadata": {
    "code_folding": [
     0
    ]
   },
   "outputs": [],
   "source": [
    "def get_clusters(X, model, n_clusters) -> Tuple[pd.DataFrame, pd.DataFrame]:\n",
    "    clustering = train_model(X, model, n_clusters)\n",
    "    # apply the labels\n",
    "    train_labels = clustering.labels_\n",
    "    X_clstrs = X.copy()\n",
    "    X_clstrs['clusters'] = train_labels\n",
    "    return X_clstrs"
   ]
  },
  {
   "cell_type": "code",
   "execution_count": 23,
   "metadata": {
    "code_folding": [
     0
    ]
   },
   "outputs": [],
   "source": [
    "#split\n",
    "def StratifiedSampling(df, test_size):\n",
    "    X = df.drop(['brand'], axis=1)\n",
    "    y = df.brand\n",
    "    sss = StratifiedShuffleSplit(n_splits=1, test_size=test_size, random_state=0)    \n",
    "    sss.get_n_splits(X, y)\n",
    "    for train_index, test_index in sss.split(X, y):\n",
    "        train = df.iloc[train_index,:]\n",
    "        test = df.iloc[test_index,:]\n",
    "    X_train = train.drop(['brand'], axis=1)\n",
    "    y_train = train.brand\n",
    "    X_test = test.drop(['brand'], axis=1)\n",
    "    y_test = test.brand\n",
    "    return X_train,y_train,X_test,y_test"
   ]
  },
  {
   "cell_type": "code",
   "execution_count": 24,
   "metadata": {
    "code_folding": [
     0
    ]
   },
   "outputs": [],
   "source": [
    "def cluster_predict(X_test,cluster_dict):\n",
    "    pred_prob,fin_pred,_01mad = [],[],[]\n",
    "    for z in X_test.clusters:\n",
    "        b_list = cluster_dict.get(z)\n",
    "        b_prob = [float(b_list.count(i))/len(b_list) for i in [1,2,3,4]] #prob distribution for each brand\n",
    "        pred_label = b_prob.index(max(b_prob))+1\n",
    "        pred_label_list = [0]*4\n",
    "        pred_label_list[pred_label-1]=1\n",
    "    \n",
    "        pred_prob.append(b_prob) \n",
    "        fin_pred.append(pred_label) \n",
    "        _01mad.append(pred_label_list)\n",
    "    return pred_prob,fin_pred,_01mad"
   ]
  },
  {
   "cell_type": "code",
   "execution_count": 82,
   "metadata": {},
   "outputs": [],
   "source": [
    "cluster_methods = ['kmean','AffinityPropagation','AgglomerativeClustering','Birch','DBSCAN','MiniBatchKMeans','SpectralClustering']"
   ]
  },
  {
   "cell_type": "code",
   "execution_count": 92,
   "metadata": {},
   "outputs": [],
   "source": [
    "cluster_methods = ['AgglomerativeClustering']"
   ]
  },
  {
   "cell_type": "code",
   "execution_count": 106,
   "metadata": {
    "code_folding": [
     2
    ]
   },
   "outputs": [],
   "source": [
    "df_result = pd.DataFrame()\n",
    "df_result['scores'] = ['0or1MAD','normMAD','accuracy']\n",
    "for i in cluster_methods:\n",
    "    X= get_clusters(X,i,7)\n",
    "    df['clusters'] = X.clusters\n",
    "    cluster_dict = df.groupby('clusters')['brand'].apply(list).to_dict()\n",
    "    X_train,y_train,X_test,y_test = StratifiedSampling(df, 0.2)\n",
    "    pred_prob,fin_pred,_01mad = cluster_predict(X_test,cluster_dict)\n",
    "    df_result[i] = [round(MAD(_01mad,list(y_test)),2),round(MAD(pred_prob,list(y_test)),2),round(accuracy_score(y_test, fin_pred),2)]\n",
    "#    print(i)\n",
    "#    print('0or1MAD: ', round(MAD(_01mad,list(y_test)),2))\n",
    "#    print('normMAD: ', round(MAD(pred_prob,list(y_test)),2))\n",
    "#    print('accuracy: ', round(accuracy_score(y_test, fin_pred),2))"
   ]
  },
  {
   "cell_type": "code",
   "execution_count": 107,
   "metadata": {},
   "outputs": [
    {
     "data": {
      "text/html": [
       "<div>\n",
       "<style scoped>\n",
       "    .dataframe tbody tr th:only-of-type {\n",
       "        vertical-align: middle;\n",
       "    }\n",
       "\n",
       "    .dataframe tbody tr th {\n",
       "        vertical-align: top;\n",
       "    }\n",
       "\n",
       "    .dataframe thead th {\n",
       "        text-align: right;\n",
       "    }\n",
       "</style>\n",
       "<table border=\"1\" class=\"dataframe\">\n",
       "  <thead>\n",
       "    <tr style=\"text-align: right;\">\n",
       "      <th></th>\n",
       "      <th>Birch</th>\n",
       "    </tr>\n",
       "    <tr>\n",
       "      <th>scores</th>\n",
       "      <th></th>\n",
       "    </tr>\n",
       "  </thead>\n",
       "  <tbody>\n",
       "    <tr>\n",
       "      <th>0or1MAD</th>\n",
       "      <td>0.72</td>\n",
       "    </tr>\n",
       "    <tr>\n",
       "      <th>normMAD</th>\n",
       "      <td>0.95</td>\n",
       "    </tr>\n",
       "    <tr>\n",
       "      <th>accuracy</th>\n",
       "      <td>0.64</td>\n",
       "    </tr>\n",
       "  </tbody>\n",
       "</table>\n",
       "</div>"
      ],
      "text/plain": [
       "          Birch\n",
       "scores         \n",
       "0or1MAD    0.72\n",
       "normMAD    0.95\n",
       "accuracy   0.64"
      ]
     },
     "execution_count": 107,
     "metadata": {},
     "output_type": "execute_result"
    }
   ],
   "source": [
    "df_result.set_index('scores')"
   ]
  },
  {
   "cell_type": "code",
   "execution_count": 78,
   "metadata": {
    "code_folding": [
     0
    ]
   },
   "outputs": [
    {
     "data": {
      "text/plain": [
       "[<matplotlib.lines.Line2D at 0x16a98ecdf40>]"
      ]
     },
     "execution_count": 78,
     "metadata": {},
     "output_type": "execute_result"
    },
    {
     "data": {
      "image/png": "[encoded data removed]",
      "text/plain": [
       "<Figure size 432x288 with 1 Axes>"
      ]
     },
     "metadata": {
      "needs_background": "light"
     },
     "output_type": "display_data"
    }
   ],
   "source": [
    "def calculate_WSS(points, kmax):\n",
    "    sse = []\n",
    "    for k in range(1, kmax+1):\n",
    "        clustering = train_model(X, 'MiniBatchKMeans', k)\n",
    "        centroids = clustering.cluster_centers_\n",
    "        pred_clusters = clustering.predict(points)\n",
    "        curr_sse = 0\n",
    "    \n",
    "    # calculate square of Euclidean distance of each point from its cluster center and add to current WSS\n",
    "        for i in range(len(points)):\n",
    "            curr_center = centroids[pred_clusters[i]]\n",
    "            sse1 = (points.iloc[i, 0] - curr_center[0]) ** 2 \n",
    "            sse2 = (points.iloc[i, 1] - curr_center[1]) ** 2\n",
    "            curr_sse += sse1+sse2\n",
    "      \n",
    "        sse.append(curr_sse)\n",
    "    return sse\n",
    "result = calculate_WSS(X, 16)\n",
    "plt.plot(result)"
   ]
  },
  {
   "cell_type": "code",
   "execution_count": 226,
   "metadata": {},
   "outputs": [],
   "source": [
    "y_comp['cluster']=pd.DataFrame(fin_pred)"
   ]
  },
  {
   "cell_type": "code",
   "execution_count": 227,
   "metadata": {},
   "outputs": [
    {
     "data": {
      "text/html": [
       "<div>\n",
       "<style scoped>\n",
       "    .dataframe tbody tr th:only-of-type {\n",
       "        vertical-align: middle;\n",
       "    }\n",
       "\n",
       "    .dataframe tbody tr th {\n",
       "        vertical-align: top;\n",
       "    }\n",
       "\n",
       "    .dataframe thead th {\n",
       "        text-align: right;\n",
       "    }\n",
       "</style>\n",
       "<table border=\"1\" class=\"dataframe\">\n",
       "  <thead>\n",
       "    <tr style=\"text-align: right;\">\n",
       "      <th></th>\n",
       "      <th>brand</th>\n",
       "    </tr>\n",
       "  </thead>\n",
       "  <tbody>\n",
       "    <tr>\n",
       "      <th>321</th>\n",
       "      <td>3</td>\n",
       "    </tr>\n",
       "    <tr>\n",
       "      <th>676</th>\n",
       "      <td>3</td>\n",
       "    </tr>\n",
       "    <tr>\n",
       "      <th>722</th>\n",
       "      <td>3</td>\n",
       "    </tr>\n",
       "    <tr>\n",
       "      <th>329</th>\n",
       "      <td>1</td>\n",
       "    </tr>\n",
       "    <tr>\n",
       "      <th>790</th>\n",
       "      <td>1</td>\n",
       "    </tr>\n",
       "    <tr>\n",
       "      <th>...</th>\n",
       "      <td>...</td>\n",
       "    </tr>\n",
       "    <tr>\n",
       "      <th>52</th>\n",
       "      <td>2</td>\n",
       "    </tr>\n",
       "    <tr>\n",
       "      <th>757</th>\n",
       "      <td>3</td>\n",
       "    </tr>\n",
       "    <tr>\n",
       "      <th>543</th>\n",
       "      <td>1</td>\n",
       "    </tr>\n",
       "    <tr>\n",
       "      <th>latlong</th>\n",
       "      <td>0\n",
       "0    1\n",
       "1    2\n",
       "2    1\n",
       "3    3\n",
       "4    3\n",
       "..  ...</td>\n",
       "    </tr>\n",
       "    <tr>\n",
       "      <th>cluster</th>\n",
       "      <td>0\n",
       "0    3\n",
       "1    3\n",
       "2    3\n",
       "3    1\n",
       "4    1\n",
       "..  ...</td>\n",
       "    </tr>\n",
       "  </tbody>\n",
       "</table>\n",
       "<p>167 rows × 1 columns</p>\n",
       "</div>"
      ],
      "text/plain": [
       "                                                     brand\n",
       "321                                                      3\n",
       "676                                                      3\n",
       "722                                                      3\n",
       "329                                                      1\n",
       "790                                                      1\n",
       "...                                                    ...\n",
       "52                                                       2\n",
       "757                                                      3\n",
       "543                                                      1\n",
       "latlong       0\n",
       "0    1\n",
       "1    2\n",
       "2    1\n",
       "3    3\n",
       "4    3\n",
       "..  ...\n",
       "cluster       0\n",
       "0    3\n",
       "1    3\n",
       "2    3\n",
       "3    1\n",
       "4    1\n",
       "..  ...\n",
       "\n",
       "[167 rows x 1 columns]"
      ]
     },
     "execution_count": 227,
     "metadata": {},
     "output_type": "execute_result"
    }
   ],
   "source": [
    "pd.DataFrame(y_comp)"
   ]
  },
  {
   "cell_type": "code",
   "execution_count": null,
   "metadata": {},
   "outputs": [],
   "source": []
  }
 ],
 "metadata": {
  "kernelspec": {
   "display_name": "Python 3",
   "language": "python",
   "name": "python3"
  },
  "language_info": {
   "codemirror_mode": {
    "name": "ipython",
    "version": 3
   },
   "file_extension": ".py",
   "mimetype": "text/x-python",
   "name": "python",
   "nbconvert_exporter": "python",
   "pygments_lexer": "ipython3",
   "version": "3.8.3"
  }
 },
 "nbformat": 4,
 "nbformat_minor": 4
}
