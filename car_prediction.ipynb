{
 "cells": [
  {
   "cell_type": "code",
   "execution_count": 1,
   "metadata": {},
   "outputs": [],
   "source": [
    "import pandas as pd\n",
    "import sklearn # make sure this is installed in your environment.\n",
    "from sklearn.datasets import *\n",
    "from sklearn import tree\n",
    "from sklearn.naive_bayes import BernoulliNB\n",
    "from sklearn.linear_model import SGDClassifier\n",
    "from sklearn.svm import SVC\n",
    "import math\n",
    "from sklearn.model_selection import StratifiedShuffleSplit\n",
    "import numpy as np\n",
    "from sklearn.model_selection import train_test_split\n",
    "from sklearn.linear_model import LogisticRegression\n",
    "from sklearn.metrics import accuracy_score\n",
    "from sklearn.ensemble import AdaBoostClassifier\n",
    "from sklearn.ensemble import RandomForestClassifier\n",
    "from sklearn.ensemble import GradientBoostingClassifier\n",
    "from xgboost import XGBClassifier\n",
    "from xgboost import plot_tree\n",
    "import matplotlib.pyplot as plt\n",
    "from sklearn.linear_model import LogisticRegressionCV\n",
    "\n",
    "from sklearn.linear_model import Lasso, LogisticRegression\n",
    "from sklearn.feature_selection import SelectFromModel\n",
    "from sklearn.preprocessing import StandardScaler\n",
    "from sklearn.model_selection import GridSearchCV\n",
    "\n",
    "from sklearn.cluster import KMeans\n",
    "from typing import Tuple\n",
    "from sklearn.model_selection import KFold"
   ]
  },
  {
   "cell_type": "code",
   "execution_count": 2,
   "metadata": {},
   "outputs": [],
   "source": [
    "df = pd.read_csv(r'Mid07new_with_dist1_dist10_small.txt',sep=',')\n",
    "df = df.drop(df.columns[0], axis=1)\n",
    "df = df.drop(df.columns[12:29], axis=1)"
   ]
  },
  {
   "cell_type": "code",
   "execution_count": 62,
   "metadata": {
    "code_folding": [
     0
    ]
   },
   "outputs": [],
   "source": [
    "#dummies\n",
    "df = pd.read_csv(r'Mid07new_with_dist1_dist10_small.txt',sep=',')\n",
    "df = df[['realprice1', 'realprice2', 'realprice3', 'realprice4',\n",
    "       'br1', 'br2', 'br3', 'br4', 'residual.price.1', 'residual.price.2',\n",
    "       'residual.price.3', 'residual.price.4','TRADEMANUFACTURER',\n",
    "       'TRADENAME', 'TRADEMODEL', 'TRADEORIGIN', 'TRADEBODYTP',\n",
    "       'TRADECYLINDER','brand']].copy()\n",
    "df = pd.get_dummies(df,drop_first=True)"
   ]
  },
  {
   "cell_type": "code",
   "execution_count": 63,
   "metadata": {
    "code_folding": [
     0
    ]
   },
   "outputs": [],
   "source": [
    "#LA dataset\n",
    "df_LA = pd.read_csv(r'LA07 (2019 0612) with DIST1.txt',sep=' ')\n",
    "df_LA = df_LA[['realprice1', 'realprice2', 'realprice3', 'realprice4',\n",
    "       'br1', 'br2', 'br3', 'br4', 'X1', 'X2',\n",
    "       'X3', 'X4','TRADEMANUFACTURER',\n",
    "       'TRADENAME', 'TRADEMODEL', 'TRADEORIGIN', 'TRADEBODYTP',\n",
    "       'TRADECYLINDER','brand']].copy()\n",
    "df_LA=df_LA.rename(columns = {'X1':'residual.price.1','X2':'residual.price.2','X3':'residual.price.3','X4':'residual.price.4'})\n",
    "\n",
    "df_LA = pd.get_dummies(df_LA,drop_first=True)"
   ]
  },
  {
   "cell_type": "code",
   "execution_count": 64,
   "metadata": {},
   "outputs": [],
   "source": [
    "col_list = (df_LA.append([df])).columns.tolist()\n",
    "df = df.reindex(columns=col_list, fill_value=0)\n",
    "df_LA = df_LA.reindex(columns=col_list, fill_value=0)"
   ]
  },
  {
   "cell_type": "markdown",
   "metadata": {},
   "source": [
    "## Data Spliting "
   ]
  },
  {
   "cell_type": "code",
   "execution_count": 53,
   "metadata": {},
   "outputs": [],
   "source": [
    "X = df.drop(['brand'], axis=1)\n",
    "y = df.brand"
   ]
  },
  {
   "cell_type": "code",
   "execution_count": 1115,
   "metadata": {
    "code_folding": [
     0
    ]
   },
   "outputs": [],
   "source": [
    "def StratifiedSampling(df, test_size):\n",
    "    X = df.drop(['brand'], axis=1)\n",
    "    y = df.brand\n",
    "    sss = StratifiedShuffleSplit(n_splits=1, test_size=test_size, random_state=0)    \n",
    "    sss.get_n_splits(X, y)\n",
    "    for train_index, test_index in sss.split(X, y):\n",
    "        train = df.iloc[train_index,:]\n",
    "        test = df.iloc[test_index,:]\n",
    "    return train,test"
   ]
  },
  {
   "cell_type": "code",
   "execution_count": 1116,
   "metadata": {
    "code_folding": []
   },
   "outputs": [],
   "source": [
    "#split\n",
    "train,test = StratifiedSampling(df, 0.2)\n",
    "X_train = train.drop(['brand'], axis=1)\n",
    "y_train = train.brand\n",
    "X_test = test.drop(['brand'], axis=1)\n",
    "y_test = test.brand"
   ]
  },
  {
   "cell_type": "code",
   "execution_count": 1110,
   "metadata": {
    "code_folding": []
   },
   "outputs": [],
   "source": [
    "#feature extraction \n",
    "def feature_extraction(X_train,X_test):\n",
    "    sel_ = SelectFromModel(LogisticRegression(penalty='l2',solver='liblinear'),threshold=\"1.5*mean\")\n",
    "    sel_.fit(X_train, y_train)\n",
    "    selected_feat = X_train.columns[(sel_.get_support())]\n",
    "    X_train = pd.DataFrame(sel_.transform(X_train), columns =selected_feat)\n",
    "    X_test = pd.DataFrame(sel_.transform(X_test), columns =selected_feat)\n",
    "    return X_train,X_test\n",
    "X_train,X_test = feature_extraction(X_train,X_test)"
   ]
  },
  {
   "cell_type": "code",
   "execution_count": 1125,
   "metadata": {
    "code_folding": [
     0
    ]
   },
   "outputs": [],
   "source": [
    "#test optimal size #don't run feature extraction\n",
    "MAD_list_gb,accuracy_list_gb = [],[]\n",
    "for i in [0.8,0.7,0.6,0.5,0.4,0.3,0.2,0.1]:\n",
    "    train,test = StratifiedSampling(df, i)\n",
    "    X_train = train.drop(['brand'], axis=1)\n",
    "    y_train = train.brand\n",
    "    X_train,X_test_1 = feature_extraction(X_train,X_test)\n",
    "    #0or1MAD \n",
    "    fin_pred = classifier(X_train,y_train,X_test_1, 'gradient_boost', 0)\n",
    "    MAD_list_gb.append(round(MAD(fin_pred,list(y_test)),2))\n",
    "    fin_pred = classifier(X_train,y_train,X_test_1, 'gradient_boost', 1)\n",
    "    accuracy_list_gb.append(round(accuracy_score(y_test, fin_pred),2))"
   ]
  },
  {
   "cell_type": "code",
   "execution_count": 1126,
   "metadata": {
    "code_folding": [
     0
    ],
    "collapsed": true
   },
   "outputs": [
    {
     "data": {
      "text/plain": [
       "<matplotlib.legend.Legend at 0x2363ae55160>"
      ]
     },
     "execution_count": 1126,
     "metadata": {},
     "output_type": "execute_result"
    },
    {
     "data": {
      "image/png": "[encoded data removed]",
      "text/plain": [
       "<Figure size 432x288 with 1 Axes>"
      ]
     },
     "metadata": {
      "needs_background": "light"
     },
     "output_type": "display_data"
    }
   ],
   "source": [
    "#MAD learning curve\n",
    "plt.plot(MAD_list_gb, label='gradient_boost')\n",
    "plt.plot(MAD_list_rm, label='random_forest')\n",
    "plt.plot(MAD_list_lr, label='LogisticRegressionCV')\n",
    "plt.xticks(list(range(8)), [0.8,0.7,0.6,0.5,0.4,0.3,0.2,0.1])\n",
    "plt.legend()"
   ]
  },
  {
   "cell_type": "code",
   "execution_count": 1127,
   "metadata": {
    "code_folding": [
     0
    ],
    "collapsed": true
   },
   "outputs": [
    {
     "data": {
      "text/plain": [
       "<matplotlib.legend.Legend at 0x2363aeb3a60>"
      ]
     },
     "execution_count": 1127,
     "metadata": {},
     "output_type": "execute_result"
    },
    {
     "data": {
      "image/png": "[encoded data removed]",
      "text/plain": [
       "<Figure size 432x288 with 1 Axes>"
      ]
     },
     "metadata": {
      "needs_background": "light"
     },
     "output_type": "display_data"
    }
   ],
   "source": [
    "#accuracy learning curve\n",
    "plt.plot(accuracy_list_gb,label='gradient_boost')\n",
    "plt.plot(accuracy_list_rm,label='random_forest')\n",
    "plt.plot(accuracy_list_lr,label='LogisticRegressionCV')\n",
    "plt.xticks(list(range(8)), [0.8,0.7,0.6,0.5,0.4,0.3,0.2,0.1])\n",
    "plt.legend()"
   ]
  },
  {
   "cell_type": "code",
   "execution_count": 1047,
   "metadata": {},
   "outputs": [
    {
     "data": {
      "text/plain": [
       "[0.68, 0.67, 0.66, 0.67, 0.67, 0.67, 0.67, 0.67]"
      ]
     },
     "execution_count": 1047,
     "metadata": {},
     "output_type": "execute_result"
    }
   ],
   "source": [
    "accuracy_list_rm"
   ]
  },
  {
   "cell_type": "markdown",
   "metadata": {},
   "source": [
    "## Cluster before training"
   ]
  },
  {
   "cell_type": "code",
   "execution_count": 1111,
   "metadata": {
    "code_folding": [
     0
    ]
   },
   "outputs": [
    {
     "name": "stderr",
     "output_type": "stream",
     "text": [
      "C:\\Users\\luoyu\\anaconda3\\lib\\site-packages\\sklearn\\cluster\\_kmeans.py:973: FutureWarning: 'n_jobs' was deprecated in version 0.23 and will be removed in 0.25.\n",
      "  warnings.warn(\"'n_jobs' was deprecated in version 0.23 and will be\"\n"
     ]
    }
   ],
   "source": [
    "def get_clusters(X_train: pd.DataFrame, X_test: pd.DataFrame, n_clusters: int) -> Tuple[pd.DataFrame, pd.DataFrame]:\n",
    "    \"\"\"\n",
    "    applies k-means clustering to training data to find clusters and predicts them for the test set\n",
    "    \"\"\"\n",
    "    clustering = KMeans(n_clusters=n_clusters, random_state=42,n_jobs=-1)\n",
    "    clustering.fit(X_train)\n",
    "    # apply the labels\n",
    "    train_labels = clustering.labels_\n",
    "    X_train_clstrs = X_train.copy()\n",
    "    X_train_clstrs['clusters'] = train_labels\n",
    "    \n",
    "    # predict labels on the test set\n",
    "    test_labels = clustering.predict(X_test)\n",
    "    X_test_clstrs = X_test.copy()\n",
    "    X_test_clstrs['clusters'] = test_labels\n",
    "    return X_train_clstrs, X_test_clstrs\n",
    "X_train, X_test = get_clusters(X_train, X_test, 6)"
   ]
  },
  {
   "cell_type": "code",
   "execution_count": 974,
   "metadata": {
    "code_folding": [
     0
    ],
    "collapsed": true
   },
   "outputs": [
    {
     "data": {
      "text/plain": [
       "[<matplotlib.lines.Line2D at 0x236350e6490>]"
      ]
     },
     "execution_count": 974,
     "metadata": {},
     "output_type": "execute_result"
    },
    {
     "data": {
      "image/png": "[encoded data removed]",
      "text/plain": [
       "<Figure size 432x288 with 1 Axes>"
      ]
     },
     "metadata": {
      "needs_background": "light"
     },
     "output_type": "display_data"
    }
   ],
   "source": [
    "def calculate_WSS(points, kmax):\n",
    "    sse = []\n",
    "    for k in range(1, kmax+1):\n",
    "        kmeans = KMeans(n_clusters = k).fit(points)\n",
    "        centroids = kmeans.cluster_centers_\n",
    "        pred_clusters = kmeans.predict(points)\n",
    "        curr_sse = 0\n",
    "    \n",
    "    # calculate square of Euclidean distance of each point from its cluster center and add to current WSS\n",
    "        for i in range(len(points)):\n",
    "            curr_center = centroids[pred_clusters[i]]\n",
    "            sse1 = (points.iloc[i, 0] - curr_center[0]) ** 2 \n",
    "            sse2 = (points.iloc[i, 1] - curr_center[1]) ** 2\n",
    "            curr_sse += sse1+sse2\n",
    "      \n",
    "        sse.append(curr_sse)\n",
    "    return sse\n",
    "result = calculate_WSS(X_train, 16)\n",
    "plt.plot(result)"
   ]
  },
  {
   "cell_type": "markdown",
   "metadata": {},
   "source": [
    "## Traning Biclass"
   ]
  },
  {
   "cell_type": "code",
   "execution_count": 1119,
   "metadata": {
    "code_folding": [
     0
    ]
   },
   "outputs": [],
   "source": [
    "def train_models(X_train,y_train,model):\n",
    "    if model == 'decision_tree':\n",
    "        clf = tree.DecisionTreeClassifier()\n",
    "    if model == 'linear_SGD_classifier':\n",
    "        clf = SGDClassifier(loss=\"log\")\n",
    "    if model == 'naive_bayes':\n",
    "        clf = BernoulliNB()\n",
    "    if model == 'AdaBoost':\n",
    "        clf = AdaBoostClassifier(n_estimators=100)\n",
    "    if model == 'random_forest':\n",
    "        clf = RandomForestClassifier(n_estimators= 400,min_samples_split=10,min_samples_leaf=4,max_features='sqrt',max_depth= 90,bootstrap= True)\n",
    "    if model == 'gradient_boost':\n",
    "        clf = GradientBoostingClassifier(subsample=0.9,n_estimators=400,min_samples_split=0.5,min_samples_leaf=0.1,max_features= 'sqrt',max_depth= 3,loss= 'deviance',learning_rate= 0.075,criterion= 'mae')\n",
    "    if model == 'xgboost':\n",
    "        clf = XGBClassifier()\n",
    "    if model == 'LogisticRegressionCV':\n",
    "        clf = LogisticRegressionCV(cv=5, random_state=0,solver = 'liblinear',max_iter=1000)\n",
    "    if model == 'RandomizedSearchCV':    \n",
    "        rf = RandomForestClassifier()\n",
    "        clf = RandomizedSearchCV(estimator = rf, param_distributions = random_grid, n_iter = 100, cv = 3, verbose=2, random_state=42, n_jobs = -1)\n",
    "    clf = clf.fit(X_train, y_train)\n",
    "    return clf"
   ]
  },
  {
   "cell_type": "code",
   "execution_count": 927,
   "metadata": {
    "code_folding": [
     0
    ]
   },
   "outputs": [],
   "source": [
    "def cv_estimate(n_splits=None):\n",
    "    cv = KFold(n_splits=n_splits)\n",
    "    cv_clf = ensemble.GradientBoostingClassifier(**params)\n",
    "    val_scores = np.zeros((n_estimators,), dtype=np.float64)\n",
    "    for train, test in cv.split(X_train, y_train):\n",
    "        cv_clf.fit(X_train[train], y_train[train])\n",
    "        val_scores += heldout_score(cv_clf, X_train[test], y_train[test])\n",
    "    val_scores /= n_splits\n",
    "    return val_scores"
   ]
  },
  {
   "cell_type": "code",
   "execution_count": 928,
   "metadata": {},
   "outputs": [],
   "source": [
    "classifiers = ['gradient_boost','random_forest','AdaBoost','decision_tree']"
   ]
  },
  {
   "cell_type": "code",
   "execution_count": 929,
   "metadata": {
    "code_folding": [
     0
    ]
   },
   "outputs": [],
   "source": [
    "def binary_classifier(X_train,y_train,brand,model):  \n",
    "    y_train = [1 if i==brand else 0 for i in y_train]\n",
    "    clf = train_models(X_train,y_train,model=model)\n",
    "    return clf\n",
    "def classifier(X_train,y_train,X_test,model,acc_or_MAD):\n",
    "    p_list = [] # 4*pred\n",
    "    fin_pred = [] \n",
    "    fin_pred_list = []\n",
    "    for i in range(4):\n",
    "        clf = binary_classifier(X_train,y_train,i+1,model)\n",
    "        pred_prob = clf.predict_proba(X_test)\n",
    "        pred = [i[1] for i in pred_prob]  #probablity prediction of class i+1\n",
    "        p_list.append(pred)\n",
    "    for i in range(len(pred)):\n",
    "        values = [item[i] for item in p_list] \n",
    "        pred_label = values.index(max(values))+1\n",
    "        pred_label_list = [0]*4\n",
    "        pred_label_list[pred_label-1]=1\n",
    "        fin_pred.append(pred_label)\n",
    "        fin_pred_list.append(pred_label_list)\n",
    "    if acc_or_MAD == 0: return fin_pred_list        #for MAD\n",
    "    if acc_or_MAD == 1: return fin_pred            #for accuracy"
   ]
  },
  {
   "cell_type": "code",
   "execution_count": 1129,
   "metadata": {
    "code_folding": [
     0,
     13
    ]
   },
   "outputs": [],
   "source": [
    "def norm_classifier(X_train,y_train,X_test,model):\n",
    "    p_list = []\n",
    "    norm_pred = []\n",
    "    for i in range(4):\n",
    "        clf = binary_classifier(X_train,y_train,i+1,model)\n",
    "        pred_prob = clf.predict_proba(X_test)\n",
    "        pred = [i[1] for i in pred_prob]\n",
    "        p_list.append(pred)\n",
    "    for i in range(len(pred)):\n",
    "        values = [item[i] for item in p_list] \n",
    "        #print(values)\n",
    "        norm_pred.append([float(i)/sum(values) for i in values])\n",
    "    return norm_pred\n",
    "def MAD(norm_pred,y_test):\n",
    "    MAD_list=[]\n",
    "    for i in range(len(y_test)):\n",
    "        mad_row = [1-n if j==y_test[i]-1 else n for j, n in enumerate(norm_pred[i]) ]\n",
    "        MAD_list.append(sum(mad_row))\n",
    "    return sum(MAD_list)/len(MAD_list)"
   ]
  },
  {
   "cell_type": "code",
   "execution_count": 1112,
   "metadata": {
    "code_folding": []
   },
   "outputs": [
    {
     "name": "stdout",
     "output_type": "stream",
     "text": [
      "LogisticRegressionCV\n",
      "normMAD:  0.95\n",
      "0or1MAD:  0.65\n",
      "accuracy:  0.67\n",
      "\n"
     ]
    }
   ],
   "source": [
    "for i in classifiers:\n",
    "    print(i)\n",
    "#normMAD\n",
    "    norm_pred = norm_classifier(X_train,y_train,X_test, i)\n",
    "    print('normMAD: ', round(MAD(norm_pred,list(y_test)),2))\n",
    "#0or1MAD \n",
    "    fin_pred = classifier(X_train,y_train,X_test, i, 0)\n",
    "    print('0or1MAD: ', round(MAD(fin_pred,list(y_test)),2))\n",
    "#accuracy\n",
    "    fin_pred = classifier(X_train,y_train,X_test, i, 1)\n",
    "    print('accuracy: ', round(accuracy_score(y_test, fin_pred),2))\n",
    "    print('')"
   ]
  },
  {
   "cell_type": "code",
   "execution_count": 981,
   "metadata": {
    "code_folding": [
     0
    ]
   },
   "outputs": [
    {
     "name": "stdout",
     "output_type": "stream",
     "text": [
      "accuracy: 0.54\n",
      "0or1MAD:  0.85\n",
      "normMAD 0.84\n"
     ]
    }
   ],
   "source": [
    "##accuracy\n",
    "ave_list_acc,ave_list_mad,ave_list_norm = [],[],[]\n",
    "for i in range(10):\n",
    "    fin_pred = classifier(X_train,y_train,X_test, 'linear_SGD_classifier',1)\n",
    "    ave_list_acc.append(accuracy_score(y_test, fin_pred))\n",
    "    fin_pred = classifier(X_train,y_train,X_test, 'linear_SGD_classifier',0)\n",
    "    ave_list_mad.append(MAD(fin_pred,list(y_test)))    \n",
    "    norm_pred = norm_classifier(X_train,y_train,X_test, 'linear_SGD_classifier')\n",
    "    ave_list_norm.append(MAD(norm_pred,list(y_test)))    \n",
    "print('accuracy:',round(sum(ave_list_acc)/10,2))\n",
    "print('0or1MAD: ',round(sum(ave_list_mad)/10,2))\n",
    "print('normMAD', round(sum(ave_list_norm)/10,2))"
   ]
  },
  {
   "cell_type": "code",
   "execution_count": 984,
   "metadata": {
    "collapsed": true
   },
   "outputs": [
    {
     "ename": "KeyError",
     "evalue": "0",
     "output_type": "error",
     "traceback": [
      "\u001b[1;31m---------------------------------------------------------------------------\u001b[0m",
      "\u001b[1;31mKeyError\u001b[0m                                  Traceback (most recent call last)",
      "\u001b[1;32m~\\anaconda3\\lib\\site-packages\\pandas\\core\\indexes\\base.py\u001b[0m in \u001b[0;36mget_loc\u001b[1;34m(self, key, method, tolerance)\u001b[0m\n\u001b[0;32m   2894\u001b[0m             \u001b[1;32mtry\u001b[0m\u001b[1;33m:\u001b[0m\u001b[1;33m\u001b[0m\u001b[1;33m\u001b[0m\u001b[0m\n\u001b[1;32m-> 2895\u001b[1;33m                 \u001b[1;32mreturn\u001b[0m \u001b[0mself\u001b[0m\u001b[1;33m.\u001b[0m\u001b[0m_engine\u001b[0m\u001b[1;33m.\u001b[0m\u001b[0mget_loc\u001b[0m\u001b[1;33m(\u001b[0m\u001b[0mcasted_key\u001b[0m\u001b[1;33m)\u001b[0m\u001b[1;33m\u001b[0m\u001b[1;33m\u001b[0m\u001b[0m\n\u001b[0m\u001b[0;32m   2896\u001b[0m             \u001b[1;32mexcept\u001b[0m \u001b[0mKeyError\u001b[0m \u001b[1;32mas\u001b[0m \u001b[0merr\u001b[0m\u001b[1;33m:\u001b[0m\u001b[1;33m\u001b[0m\u001b[1;33m\u001b[0m\u001b[0m\n",
      "\u001b[1;32mpandas\\_libs\\index.pyx\u001b[0m in \u001b[0;36mpandas._libs.index.IndexEngine.get_loc\u001b[1;34m()\u001b[0m\n",
      "\u001b[1;32mpandas\\_libs\\index.pyx\u001b[0m in \u001b[0;36mpandas._libs.index.IndexEngine.get_loc\u001b[1;34m()\u001b[0m\n",
      "\u001b[1;32mpandas\\_libs\\hashtable_class_helper.pxi\u001b[0m in \u001b[0;36mpandas._libs.hashtable.Int64HashTable.get_item\u001b[1;34m()\u001b[0m\n",
      "\u001b[1;32mpandas\\_libs\\hashtable_class_helper.pxi\u001b[0m in \u001b[0;36mpandas._libs.hashtable.Int64HashTable.get_item\u001b[1;34m()\u001b[0m\n",
      "\u001b[1;31mKeyError\u001b[0m: 0",
      "\nThe above exception was the direct cause of the following exception:\n",
      "\u001b[1;31mKeyError\u001b[0m                                  Traceback (most recent call last)",
      "\u001b[1;32m<ipython-input-984-c3c75c0305ac>\u001b[0m in \u001b[0;36m<module>\u001b[1;34m\u001b[0m\n\u001b[0;32m      2\u001b[0m \u001b[0mwrong_list\u001b[0m\u001b[1;33m,\u001b[0m\u001b[0mwrong_predict\u001b[0m \u001b[1;33m=\u001b[0m \u001b[1;33m[\u001b[0m\u001b[1;33m]\u001b[0m\u001b[1;33m,\u001b[0m\u001b[1;33m[\u001b[0m\u001b[1;33m]\u001b[0m\u001b[1;33m\u001b[0m\u001b[1;33m\u001b[0m\u001b[0m\n\u001b[0;32m      3\u001b[0m \u001b[1;32mfor\u001b[0m \u001b[0mi\u001b[0m \u001b[1;32min\u001b[0m \u001b[0mrange\u001b[0m\u001b[1;33m(\u001b[0m\u001b[0mlen\u001b[0m\u001b[1;33m(\u001b[0m\u001b[0mfin_pred\u001b[0m\u001b[1;33m)\u001b[0m\u001b[1;33m)\u001b[0m\u001b[1;33m:\u001b[0m\u001b[1;33m\u001b[0m\u001b[1;33m\u001b[0m\u001b[0m\n\u001b[1;32m----> 4\u001b[1;33m     \u001b[1;32mif\u001b[0m \u001b[0mfin_pred\u001b[0m\u001b[1;33m[\u001b[0m\u001b[0mi\u001b[0m\u001b[1;33m]\u001b[0m\u001b[1;33m!=\u001b[0m\u001b[0my_test\u001b[0m\u001b[1;33m[\u001b[0m\u001b[0mi\u001b[0m\u001b[1;33m]\u001b[0m\u001b[1;33m:\u001b[0m\u001b[1;33m\u001b[0m\u001b[1;33m\u001b[0m\u001b[0m\n\u001b[0m\u001b[0;32m      5\u001b[0m         \u001b[0mwrong_list\u001b[0m\u001b[1;33m.\u001b[0m\u001b[0mappend\u001b[0m\u001b[1;33m(\u001b[0m\u001b[0my_test\u001b[0m\u001b[1;33m[\u001b[0m\u001b[0mi\u001b[0m\u001b[1;33m]\u001b[0m\u001b[1;33m)\u001b[0m\u001b[1;33m\u001b[0m\u001b[1;33m\u001b[0m\u001b[0m\n\u001b[0;32m      6\u001b[0m         \u001b[0mwrong_predict\u001b[0m\u001b[1;33m.\u001b[0m\u001b[0mappend\u001b[0m\u001b[1;33m(\u001b[0m\u001b[0mfin_pred\u001b[0m\u001b[1;33m[\u001b[0m\u001b[0mi\u001b[0m\u001b[1;33m]\u001b[0m\u001b[1;33m)\u001b[0m\u001b[1;33m\u001b[0m\u001b[1;33m\u001b[0m\u001b[0m\n",
      "\u001b[1;32m~\\anaconda3\\lib\\site-packages\\pandas\\core\\series.py\u001b[0m in \u001b[0;36m__getitem__\u001b[1;34m(self, key)\u001b[0m\n\u001b[0;32m    880\u001b[0m \u001b[1;33m\u001b[0m\u001b[0m\n\u001b[0;32m    881\u001b[0m         \u001b[1;32melif\u001b[0m \u001b[0mkey_is_scalar\u001b[0m\u001b[1;33m:\u001b[0m\u001b[1;33m\u001b[0m\u001b[1;33m\u001b[0m\u001b[0m\n\u001b[1;32m--> 882\u001b[1;33m             \u001b[1;32mreturn\u001b[0m \u001b[0mself\u001b[0m\u001b[1;33m.\u001b[0m\u001b[0m_get_value\u001b[0m\u001b[1;33m(\u001b[0m\u001b[0mkey\u001b[0m\u001b[1;33m)\u001b[0m\u001b[1;33m\u001b[0m\u001b[1;33m\u001b[0m\u001b[0m\n\u001b[0m\u001b[0;32m    883\u001b[0m \u001b[1;33m\u001b[0m\u001b[0m\n\u001b[0;32m    884\u001b[0m         \u001b[1;32mif\u001b[0m \u001b[0mis_hashable\u001b[0m\u001b[1;33m(\u001b[0m\u001b[0mkey\u001b[0m\u001b[1;33m)\u001b[0m\u001b[1;33m:\u001b[0m\u001b[1;33m\u001b[0m\u001b[1;33m\u001b[0m\u001b[0m\n",
      "\u001b[1;32m~\\anaconda3\\lib\\site-packages\\pandas\\core\\series.py\u001b[0m in \u001b[0;36m_get_value\u001b[1;34m(self, label, takeable)\u001b[0m\n\u001b[0;32m    987\u001b[0m \u001b[1;33m\u001b[0m\u001b[0m\n\u001b[0;32m    988\u001b[0m         \u001b[1;31m# Similar to Index.get_value, but we do not fall back to positional\u001b[0m\u001b[1;33m\u001b[0m\u001b[1;33m\u001b[0m\u001b[1;33m\u001b[0m\u001b[0m\n\u001b[1;32m--> 989\u001b[1;33m         \u001b[0mloc\u001b[0m \u001b[1;33m=\u001b[0m \u001b[0mself\u001b[0m\u001b[1;33m.\u001b[0m\u001b[0mindex\u001b[0m\u001b[1;33m.\u001b[0m\u001b[0mget_loc\u001b[0m\u001b[1;33m(\u001b[0m\u001b[0mlabel\u001b[0m\u001b[1;33m)\u001b[0m\u001b[1;33m\u001b[0m\u001b[1;33m\u001b[0m\u001b[0m\n\u001b[0m\u001b[0;32m    990\u001b[0m         \u001b[1;32mreturn\u001b[0m \u001b[0mself\u001b[0m\u001b[1;33m.\u001b[0m\u001b[0mindex\u001b[0m\u001b[1;33m.\u001b[0m\u001b[0m_get_values_for_loc\u001b[0m\u001b[1;33m(\u001b[0m\u001b[0mself\u001b[0m\u001b[1;33m,\u001b[0m \u001b[0mloc\u001b[0m\u001b[1;33m,\u001b[0m \u001b[0mlabel\u001b[0m\u001b[1;33m)\u001b[0m\u001b[1;33m\u001b[0m\u001b[1;33m\u001b[0m\u001b[0m\n\u001b[0;32m    991\u001b[0m \u001b[1;33m\u001b[0m\u001b[0m\n",
      "\u001b[1;32m~\\anaconda3\\lib\\site-packages\\pandas\\core\\indexes\\base.py\u001b[0m in \u001b[0;36mget_loc\u001b[1;34m(self, key, method, tolerance)\u001b[0m\n\u001b[0;32m   2895\u001b[0m                 \u001b[1;32mreturn\u001b[0m \u001b[0mself\u001b[0m\u001b[1;33m.\u001b[0m\u001b[0m_engine\u001b[0m\u001b[1;33m.\u001b[0m\u001b[0mget_loc\u001b[0m\u001b[1;33m(\u001b[0m\u001b[0mcasted_key\u001b[0m\u001b[1;33m)\u001b[0m\u001b[1;33m\u001b[0m\u001b[1;33m\u001b[0m\u001b[0m\n\u001b[0;32m   2896\u001b[0m             \u001b[1;32mexcept\u001b[0m \u001b[0mKeyError\u001b[0m \u001b[1;32mas\u001b[0m \u001b[0merr\u001b[0m\u001b[1;33m:\u001b[0m\u001b[1;33m\u001b[0m\u001b[1;33m\u001b[0m\u001b[0m\n\u001b[1;32m-> 2897\u001b[1;33m                 \u001b[1;32mraise\u001b[0m \u001b[0mKeyError\u001b[0m\u001b[1;33m(\u001b[0m\u001b[0mkey\u001b[0m\u001b[1;33m)\u001b[0m \u001b[1;32mfrom\u001b[0m \u001b[0merr\u001b[0m\u001b[1;33m\u001b[0m\u001b[1;33m\u001b[0m\u001b[0m\n\u001b[0m\u001b[0;32m   2898\u001b[0m \u001b[1;33m\u001b[0m\u001b[0m\n\u001b[0;32m   2899\u001b[0m         \u001b[1;32mif\u001b[0m \u001b[0mtolerance\u001b[0m \u001b[1;32mis\u001b[0m \u001b[1;32mnot\u001b[0m \u001b[1;32mNone\u001b[0m\u001b[1;33m:\u001b[0m\u001b[1;33m\u001b[0m\u001b[1;33m\u001b[0m\u001b[0m\n",
      "\u001b[1;31mKeyError\u001b[0m: 0"
     ]
    }
   ],
   "source": [
    "fin_pred = classifier(X_train,y_train,X_test, 'gradient_boost', 1)\n",
    "wrong_list,wrong_predict = [],[]\n",
    "for i in range(len(fin_pred)):\n",
    "    if fin_pred[i]!=y_test[i]:\n",
    "        wrong_list.append(y_test[i])\n",
    "        wrong_predict.append(fin_pred[i])"
   ]
  },
  {
   "cell_type": "markdown",
   "metadata": {},
   "source": [
    "## Training multiclass"
   ]
  },
  {
   "cell_type": "code",
   "execution_count": 1094,
   "metadata": {},
   "outputs": [],
   "source": [
    "classifiers = ['LogisticRegressionCV']"
   ]
  },
  {
   "cell_type": "code",
   "execution_count": 1105,
   "metadata": {
    "code_folding": [
     0
    ]
   },
   "outputs": [],
   "source": [
    "def train_models_multi(X_train,y_train,model):\n",
    "    if model == 'decision_tree':\n",
    "        clf = tree.DecisionTreeClassifier()\n",
    "    if model == 'linear_SGD_classifier':\n",
    "        clf = SGDClassifier(loss=\"log\")\n",
    "    if model == 'naive_bayes':\n",
    "        clf = BernoulliNB()\n",
    "    if model == 'AdaBoost':\n",
    "        clf = AdaBoostClassifier(n_estimators=100)\n",
    "    if model == 'random_forest':\n",
    "        clf = RandomForestClassifier(n_estimators= 400,min_samples_split=10,min_samples_leaf=4,max_features='sqrt',max_depth= 90,bootstrap= True)\n",
    "    if model == 'gradient_boost':\n",
    "        clf = GradientBoostingClassifier(subsample=0.9,n_estimators=800,min_samples_split=0.5,min_samples_leaf=0.1,max_features= 'sqrt',max_depth= 3,loss= 'deviance',learning_rate= 0.075,criterion= 'mae')\n",
    "    if model == 'xgboost':\n",
    "        clf = XGBClassifier()\n",
    "    if model == 'LogisticRegressionCV':\n",
    "        clf = LogisticRegressionCV(cv=5, random_state=0,max_iter=4000)\n",
    "    if model == 'RandomizedSearchCV':    \n",
    "        rf = RandomForestClassifier()\n",
    "        clf = RandomizedSearchCV(estimator = rf, param_distributions = random_grid, n_iter = 100, cv = 3, verbose=2, random_state=42, n_jobs = -1)\n",
    "    clf = clf.fit(X_train, y_train)\n",
    "    return clf"
   ]
  },
  {
   "cell_type": "code",
   "execution_count": 1055,
   "metadata": {
    "code_folding": [
     0,
     16
    ]
   },
   "outputs": [],
   "source": [
    "def multi_classifier(X_train,y_train,X_test,model,acc_or_MAD):\n",
    "    p_list = []\n",
    "    fin_pred = []\n",
    "    fin_pred_list = []\n",
    "    clf = train_models_multi(X_train,y_train,model=model)\n",
    "    pred_prob = clf.predict_proba(X_test)  \n",
    "    \n",
    "    for values in pred_prob:\n",
    "        pred_label = list(values).index(max(values))+1\n",
    "        pred_label_list = [0]*4\n",
    "        pred_label_list[pred_label-1]=1\n",
    "        fin_pred.append(pred_label)\n",
    "        fin_pred_list.append(pred_label_list)\n",
    "    if acc_or_MAD == 0: return fin_pred_list        #for MAD\n",
    "    if acc_or_MAD == 1: return fin_pred  \n",
    "    return pred_prob\n",
    "def multi_norm_classifier(X_train,y_train,X_test,model):\n",
    "    p_list = []\n",
    "    norm_pred = []\n",
    "    clf = train_models_multi(X_train,y_train,model=model)\n",
    "    pred_prob = clf.predict_proba(X_test)\n",
    "    for values in pred_prob:\n",
    "        norm_pred.append([float(i)/sum(values) for i in values])\n",
    "    return norm_pred"
   ]
  },
  {
   "cell_type": "code",
   "execution_count": 1106,
   "metadata": {
    "code_folding": [
     0
    ]
   },
   "outputs": [
    {
     "name": "stdout",
     "output_type": "stream",
     "text": [
      "LogisticRegressionCV\n",
      "normMAD:  0.91\n",
      "0or1MAD:  0.65\n",
      "accuracy:  0.67\n",
      "\n"
     ]
    }
   ],
   "source": [
    "for i in classifiers:\n",
    "    print(i)\n",
    "#normMAD\n",
    "    norm_pred = multi_norm_classifier(X_train,y_train,X_test, i)\n",
    "    print('normMAD: ', round(MAD(norm_pred,list(y_test)),2))\n",
    "#0or1MAD \n",
    "    fin_pred = multi_classifier(X_train,y_train,X_test, i, 0)\n",
    "    print('0or1MAD: ', round(MAD(fin_pred,list(y_test)),2))\n",
    "#accuracy\n",
    "    fin_pred = multi_classifier(X_train,y_train,X_test, i, 1)\n",
    "    print('accuracy: ', round(accuracy_score(y_test, fin_pred),2))\n",
    "    print('')"
   ]
  },
  {
   "cell_type": "markdown",
   "metadata": {},
   "source": [
    "## Gridsearch"
   ]
  },
  {
   "cell_type": "code",
   "execution_count": 716,
   "metadata": {
    "code_folding": [
     0
    ]
   },
   "outputs": [],
   "source": [
    "#gridsearch parameters\n",
    "from sklearn.model_selection import RandomizedSearchCV\n",
    "n_estimators = [int(x) for x in np.linspace(start = 200, stop = 2000, num = 10)]\n",
    "max_features = ['auto', 'sqrt']\n",
    "max_depth = [int(x) for x in np.linspace(10, 110, num = 11)]\n",
    "max_depth.append(None)\n",
    "min_samples_split = [2, 5, 10]\n",
    "min_samples_leaf = [1, 2, 4]\n",
    "bootstrap = [True, False]\n",
    "random_grid = {'n_estimators': n_estimators,\n",
    "               'max_features': max_features,\n",
    "               'max_depth': max_depth,\n",
    "               'min_samples_split': min_samples_split,\n",
    "               'min_samples_leaf': min_samples_leaf,\n",
    "               'bootstrap': bootstrap}\n",
    "\n",
    "parameters = {\n",
    "    \"loss\":[\"deviance\",\"exponential\"],\n",
    "    \"learning_rate\": [0.01, 0.025, 0.05, 0.075, 0.1, 0.15, 0.2],\n",
    "    \"min_samples_split\": np.linspace(0.1, 0.5, 12),\n",
    "    \"min_samples_leaf\": np.linspace(0.1, 0.5, 12),\n",
    "    \"max_depth\":[3,5,8],\n",
    "    \"max_features\":[\"log2\",\"sqrt\"],\n",
    "    \"criterion\": [\"friedman_mse\",  \"mae\"],\n",
    "    \"subsample\":[0.5, 0.618, 0.8, 0.85, 0.9, 0.95, 1.0],\n",
    "    \"n_estimators\" : [int(x) for x in np.linspace(start = 200, stop = 2000, num = 10)]\n",
    "    }"
   ]
  },
  {
   "cell_type": "code",
   "execution_count": 762,
   "metadata": {},
   "outputs": [
    {
     "name": "stdout",
     "output_type": "stream",
     "text": [
      "Fitting 3 folds for each of 100 candidates, totalling 300 fits\n"
     ]
    },
    {
     "name": "stderr",
     "output_type": "stream",
     "text": [
      "[Parallel(n_jobs=-1)]: Using backend LokyBackend with 8 concurrent workers.\n",
      "[Parallel(n_jobs=-1)]: Done  25 tasks      | elapsed:   20.1s\n",
      "[Parallel(n_jobs=-1)]: Done 146 tasks      | elapsed:  1.0min\n",
      "[Parallel(n_jobs=-1)]: Done 300 out of 300 | elapsed:  2.0min finished\n"
     ]
    }
   ],
   "source": [
    "rf = RandomForestClassifier()\n",
    "gb = GradientBoostingClassifier()\n",
    "lrcv = LogisticRegressionCV()\n",
    "clf = RandomizedSearchCV(estimator = gb, param_distributions = parameters, n_iter = 100, cv = 3, verbose=2, random_state=42, n_jobs = -1)\n",
    "clf = clf.fit(X_train, y_train)"
   ]
  },
  {
   "cell_type": "code",
   "execution_count": 763,
   "metadata": {},
   "outputs": [
    {
     "data": {
      "text/plain": [
       "{'subsample': 0.9,\n",
       " 'n_estimators': 800,\n",
       " 'min_samples_split': 0.46363636363636374,\n",
       " 'min_samples_leaf': 0.1,\n",
       " 'max_features': 'sqrt',\n",
       " 'max_depth': 3,\n",
       " 'loss': 'deviance',\n",
       " 'learning_rate': 0.075,\n",
       " 'criterion': 'mae'}"
      ]
     },
     "execution_count": 763,
     "metadata": {},
     "output_type": "execute_result"
    }
   ],
   "source": [
    "clf.best_params_"
   ]
  },
  {
   "cell_type": "code",
   "execution_count": null,
   "metadata": {},
   "outputs": [],
   "source": []
  }
 ],
 "metadata": {
  "kernelspec": {
   "display_name": "Python 3",
   "language": "python",
   "name": "python3"
  },
  "language_info": {
   "codemirror_mode": {
    "name": "ipython",
    "version": 3
   },
   "file_extension": ".py",
   "mimetype": "text/x-python",
   "name": "python",
   "nbconvert_exporter": "python",
   "pygments_lexer": "ipython3",
   "version": "3.8.3"
  }
 },
 "nbformat": 4,
 "nbformat_minor": 4
}
