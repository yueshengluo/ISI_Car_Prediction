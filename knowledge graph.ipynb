{
 "cells": [
  {
   "cell_type": "code",
   "execution_count": 353,
   "metadata": {},
   "outputs": [],
   "source": [
    "import pandas as pd\n",
    "import math\n",
    "import networkx as nx\n",
    "from sklearn.model_selection import StratifiedShuffleSplit\n",
    "from sklearn.metrics import accuracy_score"
   ]
  },
  {
   "cell_type": "code",
   "execution_count": 158,
   "metadata": {
    "code_folding": [
     0
    ]
   },
   "outputs": [],
   "source": [
    "#dummies\n",
    "df = pd.read_csv(r'Mid07new_with_dist1_dist10_small.txt',sep=',')\n",
    "df = df[['realprice1', 'realprice2', 'realprice3', 'realprice4',\n",
    "       'br1', 'br2', 'br3', 'br4', 'residual.price.1', 'residual.price.2',\n",
    "       'residual.price.3', 'residual.price.4','TRADEMANUFACTURER',\n",
    "       'TRADENAME', 'TRADEMODEL', 'TRADEORIGIN', 'TRADEBODYTP',\n",
    "       'TRADECYLINDER',\"CUSTLATITUDE\",\"CUSTLONGITUDE\",'ZIPCODE','brand']].copy()\n",
    "df = pd.get_dummies(df,drop_first=True)"
   ]
  },
  {
   "cell_type": "code",
   "execution_count": 7,
   "metadata": {
    "code_folding": [
     0
    ]
   },
   "outputs": [],
   "source": [
    "#latlon data prepare\n",
    "df = df[[\"CUSTLATITUDE\",\"CUSTLONGITUDE\",'brand']].copy()\n",
    "sort_lat = df.sort_values(by=['CUSTLATITUDE']).reset_index()\n",
    "sort_lon = df.sort_values(by=['CUSTLONGITUDE']).reset_index()"
   ]
  },
  {
   "cell_type": "code",
   "execution_count": 123,
   "metadata": {
    "code_folding": [
     0,
     6
    ]
   },
   "outputs": [],
   "source": [
    "def toDict(df,dist):\n",
    "    graph_dict = {}\n",
    "    for index, row in df.iterrows():\n",
    "        neighbors = getNeighbors(row['CUSTLATITUDE'],row['CUSTLONGITUDE'],dist)\n",
    "        graph_dict[index] = neighbors\n",
    "    return graph_dict\n",
    "def cal_delta(lat1,lon1,d,brng, latorlon):\n",
    "    R = 6378.1 #Radius of the Earth\n",
    "    brng = math.radians(brng) #Bearing is 90 degrees converted to radians.\n",
    "\n",
    "    lat1 = math.radians(lat1) #Current lat point converted to radians\n",
    "    lon1 = math.radians(lon1) #Current long point converted to radians\n",
    "\n",
    "    lat2 = math.asin( math.sin(lat1)*math.cos(d/R) + math.cos(lat1)*math.sin(d/R)*math.cos(brng))\n",
    "    lon2 = lon1 + math.atan2(math.sin(brng)*math.sin(d/R)*math.cos(lat1),math.cos(d/R)-math.sin(lat1)*math.sin(lat2))\n",
    "\n",
    "    lat2 = math.degrees(lat2)\n",
    "    lon2 = math.degrees(lon2)\n",
    "    \n",
    "    if latorlon == 'lat':\n",
    "        return lat2\n",
    "    else: return lon2"
   ]
  },
  {
   "cell_type": "code",
   "execution_count": 128,
   "metadata": {
    "code_folding": [
     0
    ]
   },
   "outputs": [],
   "source": [
    "def getNeighbors(lat,lon,dist):\n",
    "    lat_n = cal_delta(lat,lon,dist,0,'lat') #north bound\n",
    "    lat_s = cal_delta(lat,lon,dist,180,'lat') #south bound\n",
    "    lon_e = cal_delta(lat,lon,dist,90,'lon')\n",
    "    lon_w = cal_delta(lat,lon,dist,270,'lon')\n",
    "    #print(lat_n,lat_s,lon_e,lon_w)\n",
    "    \n",
    "    lat_l = sort_lat['CUSTLATITUDE'].searchsorted(lat_s,side = 'left')\n",
    "    lat_r = sort_lat['CUSTLATITUDE'].searchsorted(lat_n,side = 'right')\n",
    "    lon_l = sort_lon['CUSTLONGITUDE'].searchsorted(lon_w,side = 'left')\n",
    "    lon_r = sort_lon['CUSTLONGITUDE'].searchsorted(lon_e,side = 'right')\n",
    "    #print(lat_l,lat_r,lon_l,lon_r)\n",
    "    \n",
    "    lat_set = set(sort_lat[lat_l:lat_r]['index'])\n",
    "    #print(sort_lat[lat_l:lat_r])\n",
    "    \n",
    "    lon_set = set(sort_lon[lon_l:lon_r]['index'])\n",
    "    #print(sort_lon[lon_l:lon_r])\n",
    "    final_set = lat_set.intersection(lon_set)\n",
    "    return final_set"
   ]
  },
  {
   "cell_type": "code",
   "execution_count": 157,
   "metadata": {
    "code_folding": []
   },
   "outputs": [],
   "source": [
    "#latlong dictionary\n",
    "latlon_dict = toDict(df,5)\n",
    "for key in latlon_dict:\n",
    "    latlon_dict[key].remove(key)"
   ]
  },
  {
   "cell_type": "code",
   "execution_count": 159,
   "metadata": {
    "code_folding": [
     0
    ]
   },
   "outputs": [],
   "source": [
    "#zip dictionary\n",
    "df = df.reset_index()\n",
    "zip_dict =  df.groupby('ZIPCODE')['index'].apply(list).to_dict()\n",
    "zip_index_dict = {}\n",
    "for key in zip_dict:\n",
    "    index_set = zip_dict[key]\n",
    "    for index in index_set:\n",
    "        zip_index_dict[index] = set(index_set)\n",
    "for key in zip_index_dict:\n",
    "    zip_index_dict[key].remove(key)"
   ]
  },
  {
   "cell_type": "code",
   "execution_count": 177,
   "metadata": {
    "code_folding": [
     0
    ]
   },
   "outputs": [],
   "source": [
    "def StratifiedSampling(df, test_size):\n",
    "    X = df.drop(['brand'], axis=1)\n",
    "    y = df.brand\n",
    "    sss = StratifiedShuffleSplit(n_splits=1, test_size=test_size, random_state=0)    \n",
    "    sss.get_n_splits(X, y)\n",
    "    for train_index, test_index in sss.split(X, y):\n",
    "        train = df.iloc[train_index,:]\n",
    "        test = df.iloc[test_index,:]\n",
    "    return train,test\n",
    "train,test = StratifiedSampling(df, 0.2)"
   ]
  },
  {
   "cell_type": "code",
   "execution_count": 550,
   "metadata": {
    "code_folding": []
   },
   "outputs": [],
   "source": [
    "#dict to graph\n",
    "G = nx.from_dict_of_lists(latlon_dict)\n",
    "for index,row in train.iterrows():\n",
    "    G.nodes[index]['label'] = row.brand\n",
    "    G.nodes[index]['train'] = 1\n",
    "for index,row in test.iterrows():\n",
    "    G.nodes[index]['label'] = 0\n",
    "    G.nodes[index]['train'] = 0\n",
    "H = G.copy()"
   ]
  },
  {
   "cell_type": "code",
   "execution_count": 551,
   "metadata": {
    "code_folding": [
     32
    ]
   },
   "outputs": [],
   "source": [
    "def propagate_graph(G):\n",
    "    count=0\n",
    "    for node in list(G.nodes):\n",
    "        if G.nodes[node]['train']==1: \n",
    "            count+=1\n",
    "            continue #leave out train node\n",
    "        neighbors = list(G.neighbors(node))\n",
    "        #if node == 10: print(neighbors)\n",
    "        if not neighbors: #assign majority probability for node without neighbors\n",
    "            H.nodes[node]['prob_dist'] = [0.25,0.25,0.25,0.25]\n",
    "            H.nodes[node]['label'] = 1\n",
    "        #if node == 10: print(G.nodes[node])\n",
    "        else:\n",
    "            train_nodes=[]\n",
    "            for neigh in neighbors: #assgin probaility distribution from labled neighbors\n",
    "                if G.nodes[neigh]['label']!=0:\n",
    "                    train_nodes.append(G.nodes[neigh]['label'])\n",
    "            #if node == 10: print(train_nodes)\n",
    "            if train_nodes:\n",
    "                b_prob = [float(train_nodes.count(i))/len(train_nodes) for i in [1,2,3,4]]\n",
    "                #print(node,b_prob)\n",
    "                H.nodes[node]['prob_dist'] = b_prob\n",
    "                H.nodes[node]['label'] = b_prob.index(max(b_prob))+1\n",
    "                #print(H.nodes[node])\n",
    "        #if node == 10: print(G.nodes[node])\n",
    "        if G.nodes[node]['label']!=0:\n",
    "            count+=1\n",
    "        #else: \n",
    "            #print(node,G.nodes[node])\n",
    "    return count\n",
    "\n",
    "def MAD(norm_pred,y_test):\n",
    "    MAD_list=[]\n",
    "    for i in range(len(y_test)):\n",
    "        mad_row = [1-n if j==y_test[i]-1 else n for j, n in enumerate(norm_pred[i]) ]\n",
    "        MAD_list.append(sum(mad_row))\n",
    "    return sum(MAD_list)/len(MAD_list)"
   ]
  },
  {
   "cell_type": "code",
   "execution_count": 552,
   "metadata": {
    "code_folding": []
   },
   "outputs": [
    {
     "name": "stdout",
     "output_type": "stream",
     "text": [
      "168\n",
      "410\n"
     ]
    }
   ],
   "source": [
    "#propagate\n",
    "last_count = 0\n",
    "labeled_count = len(train)\n",
    "loop = 1\n",
    "while loop:\n",
    "    labeled_count = propagate_graph(G)\n",
    "    G=H.copy()\n",
    "    #print(labeled_count)\n",
    "    if labeled_count>last_count: \n",
    "        last_count = labeled_count\n",
    "    else: \n",
    "        loop = 0\n",
    "    \n",
    "for node in list(G.nodes): #assign to node with all neighbors in test\n",
    "    if G.nodes[node]['label']==0:\n",
    "        print(node)\n",
    "        G.nodes[node]['prob_dist'] = [0.25,0.25,0.25,0.25]\n",
    "        G.nodes[node]['label'] = 1"
   ]
  },
  {
   "cell_type": "code",
   "execution_count": 556,
   "metadata": {
    "code_folding": [
     0
    ]
   },
   "outputs": [],
   "source": [
    "class predClass:\n",
    "    def __init__(self, index, dist, label):\n",
    "        self.index = index\n",
    "        self.dist = dist\n",
    "        self.label = label\n",
    "        pred_label_list = [0]*4\n",
    "        pred_label_list[label-1]=1\n",
    "        self.label_list = pred_label_list\n",
    "\n",
    "pred_list=[]        \n",
    "for node in list(G.nodes):\n",
    "    if G.nodes[node]['train']==0:\n",
    "        pred_obj = predClass(node, G.nodes[node]['prob_dist'], G.nodes[node]['label'])\n",
    "        pred_list.append(pred_obj)\n",
    "pred_list.sort(key=lambda x: x.index)"
   ]
  },
  {
   "cell_type": "code",
   "execution_count": 557,
   "metadata": {},
   "outputs": [
    {
     "name": "stdout",
     "output_type": "stream",
     "text": [
      "normMAD:  1.01\n",
      "0or1MAD:  0.81\n",
      "accuracy:  0.59\n"
     ]
    }
   ],
   "source": [
    "sortedtest = test.sort_index()\n",
    "y_test = sortedtest.brand\n",
    "print('normMAD: ', round(MAD([x.dist for x in pred_list],list(y_test)),2))\n",
    "print('0or1MAD: ', round(MAD([x.label_list for x in pred_list],list(y_test)),2))\n",
    "print('accuracy: ', round(accuracy_score(y_test, [x.label for x in pred_list]),2))"
   ]
  },
  {
   "cell_type": "code",
   "execution_count": 469,
   "metadata": {},
   "outputs": [
    {
     "data": {
      "text/plain": [
       "[[0.6666666666666666,\n",
       "  0.13333333333333333,\n",
       "  0.13333333333333333,\n",
       "  0.06666666666666667],\n",
       " [0.84, 0.08, 0.08, 0.0],\n",
       " [0.7368421052631579, 0.05263157894736842, 0.21052631578947367, 0.0],\n",
       " [0.625, 0.2916666666666667, 0.08333333333333333, 0.0],\n",
       " [0.18518518518518517, 0.037037037037037035, 0.7777777777777778, 0.0],\n",
       " [0.7777777777777778, 0.05555555555555555, 0.16666666666666666, 0.0],\n",
       " [0.08333333333333333, 0.5833333333333334, 0.3333333333333333, 0.0],\n",
       " [0.2857142857142857,\n",
       "  0.2857142857142857,\n",
       "  0.2857142857142857,\n",
       "  0.14285714285714285],\n",
       " [0.15384615384615385, 0.15384615384615385, 0.6923076923076923, 0.0],\n",
       " [0.3333333333333333, 0.0, 0.6666666666666666, 0.0],\n",
       " [0.7, 0.05, 0.2, 0.05],\n",
       " [1.0, 0.0, 0.0, 0.0],\n",
       " [0.8333333333333334, 0.0, 0.125, 0.041666666666666664],\n",
       " [0.13793103448275862, 0.5517241379310345, 0.3103448275862069, 0.0],\n",
       " [0.5833333333333334, 0.08333333333333333, 0.3333333333333333, 0.0],\n",
       " [0.07142857142857142, 0.07142857142857142, 0.8571428571428571, 0.0],\n",
       " [0.8181818181818182, 0.045454545454545456, 0.13636363636363635, 0.0],\n",
       " [0.14814814814814814, 0.7037037037037037, 0.14814814814814814, 0.0],\n",
       " [0.0, 0.0, 0.5, 0.5],\n",
       " [0.1935483870967742, 0.5806451612903226, 0.22580645161290322, 0.0],\n",
       " [0.07142857142857142, 0.39285714285714285, 0.5357142857142857, 0.0],\n",
       " [0.875, 0.125, 0.0, 0.0],\n",
       " [0.25, 0.25, 0.25, 0.25],\n",
       " [0.8421052631578947, 0.0, 0.10526315789473684, 0.05263157894736842],\n",
       " [0.75, 0.1875, 0.0, 0.0625],\n",
       " [0.0, 0.0, 0.8888888888888888, 0.1111111111111111],\n",
       " [0.2631578947368421,\n",
       "  0.21052631578947367,\n",
       "  0.42105263157894735,\n",
       "  0.10526315789473684],\n",
       " [0.15625, 0.4375, 0.40625, 0.0],\n",
       " [0.5454545454545454,\n",
       "  0.09090909090909091,\n",
       "  0.3181818181818182,\n",
       "  0.045454545454545456],\n",
       " [0.85, 0.0, 0.1, 0.05],\n",
       " [0.43478260869565216, 0.4782608695652174, 0.0, 0.08695652173913043],\n",
       " [0.8461538461538461, 0.07692307692307693, 0.07692307692307693, 0.0],\n",
       " [0.8275862068965517, 0.06896551724137931, 0.10344827586206896, 0.0],\n",
       " [0.0, 0.5, 0.5, 0.0],\n",
       " [0.7777777777777778, 0.05555555555555555, 0.16666666666666666, 0.0],\n",
       " [0.06666666666666667, 0.13333333333333333, 0.8, 0.0],\n",
       " [0.03333333333333333, 0.03333333333333333, 0.9333333333333333, 0.0],\n",
       " [0.6086956521739131, 0.043478260869565216, 0.34782608695652173, 0.0],\n",
       " [0.75, 0.0, 0.25, 0.0],\n",
       " [0.0, 0.07692307692307693, 0.8461538461538461, 0.07692307692307693],\n",
       " [0.75, 0.25, 0.0, 0.0],\n",
       " [0.4444444444444444, 0.037037037037037035, 0.5185185185185185, 0.0],\n",
       " [0.875, 0.0, 0.0, 0.125],\n",
       " [0.64, 0.04, 0.32, 0.0],\n",
       " [0.8181818181818182, 0.0, 0.18181818181818182, 0.0],\n",
       " [0.3333333333333333, 0.0, 0.6666666666666666, 0.0],\n",
       " [0.0, 0.2, 0.6, 0.2],\n",
       " [0.08333333333333333, 0.2916666666666667, 0.625, 0.0],\n",
       " [0.65, 0.1, 0.25, 0.0],\n",
       " [0.35294117647058826, 0.058823529411764705, 0.5882352941176471, 0.0],\n",
       " [0.5, 0.0, 0.0, 0.5],\n",
       " [0.6363636363636364, 0.0, 0.3181818181818182, 0.045454545454545456],\n",
       " [0.08333333333333333, 0.08333333333333333, 0.75, 0.08333333333333333],\n",
       " [0.16666666666666666, 0.6, 0.23333333333333334, 0.0],\n",
       " [0.6, 0.0, 0.4, 0.0],\n",
       " [0.19047619047619047, 0.047619047619047616, 0.7619047619047619, 0.0],\n",
       " [0.2, 0.16, 0.64, 0.0],\n",
       " [0.0, 0.07692307692307693, 0.8461538461538461, 0.07692307692307693],\n",
       " [0.8181818181818182, 0.0, 0.18181818181818182, 0.0],\n",
       " [0.1, 0.7, 0.1, 0.1],\n",
       " [0.42857142857142855,\n",
       "  0.21428571428571427,\n",
       "  0.21428571428571427,\n",
       "  0.14285714285714285],\n",
       " [1.0, 0.0, 0.0, 0.0],\n",
       " [0.8888888888888888, 0.1111111111111111, 0.0, 0.0],\n",
       " [0.5625, 0.09375, 0.34375, 0.0],\n",
       " [0.5, 0.5, 0.0, 0.0],\n",
       " [0.6, 0.3333333333333333, 0.06666666666666667, 0.0],\n",
       " [0.19444444444444445,\n",
       "  0.6666666666666666,\n",
       "  0.1111111111111111,\n",
       "  0.027777777777777776],\n",
       " [0.6111111111111112, 0.2777777777777778, 0.0, 0.1111111111111111],\n",
       " [0.75, 0.07142857142857142, 0.17857142857142858, 0.0],\n",
       " [0.7037037037037037, 0.07407407407407407, 0.2222222222222222, 0.0],\n",
       " [0.1, 0.2, 0.7, 0.0],\n",
       " [0.36, 0.28, 0.32, 0.04],\n",
       " [0.5454545454545454, 0.09090909090909091, 0.36363636363636365, 0.0],\n",
       " [0.1875, 0.6875, 0.09375, 0.03125],\n",
       " [0.25, 0.25, 0.25, 0.25],\n",
       " [0.6785714285714286, 0.07142857142857142, 0.25, 0.0],\n",
       " [0.6, 0.1, 0.3, 0.0],\n",
       " [0.7916666666666666, 0.041666666666666664, 0.16666666666666666, 0.0],\n",
       " [0.75, 0.0, 0.25, 0.0],\n",
       " [1.0, 0.0, 0.0, 0.0],\n",
       " [0.0, 0.6923076923076923, 0.3076923076923077, 0.0],\n",
       " [0.9444444444444444, 0.05555555555555555, 0.0, 0.0],\n",
       " [0.25, 0.25, 0.25, 0.25],\n",
       " [0.0, 0.12, 0.88, 0.0],\n",
       " [0.1875, 0.6875, 0.09375, 0.03125],\n",
       " [0.5, 0.2857142857142857, 0.0, 0.21428571428571427],\n",
       " [1.0, 0.0, 0.0, 0.0],\n",
       " [1.0, 0.0, 0.0, 0.0],\n",
       " [0.6666666666666666, 0.07407407407407407, 0.25925925925925924, 0.0],\n",
       " [0.6, 0.0, 0.4, 0.0],\n",
       " [0.75, 0.125, 0.0, 0.125],\n",
       " [0.0, 0.14285714285714285, 0.8571428571428571, 0.0],\n",
       " [0.0, 0.0625, 0.875, 0.0625],\n",
       " [0.18181818181818182,\n",
       "  0.5454545454545454,\n",
       "  0.18181818181818182,\n",
       "  0.09090909090909091],\n",
       " [0.8235294117647058, 0.11764705882352941, 0.058823529411764705, 0.0],\n",
       " [0.0, 0.0, 0.8571428571428571, 0.14285714285714285],\n",
       " [0.5333333333333333,\n",
       "  0.06666666666666667,\n",
       "  0.3333333333333333,\n",
       "  0.06666666666666667],\n",
       " [0.8, 0.0, 0.2, 0.0],\n",
       " [0.0, 0.7857142857142857, 0.21428571428571427, 0.0],\n",
       " [0.7142857142857143, 0.14285714285714285, 0.0, 0.14285714285714285],\n",
       " [0.13793103448275862,\n",
       "  0.7586206896551724,\n",
       "  0.06896551724137931,\n",
       "  0.034482758620689655],\n",
       " [0.8571428571428571, 0.0, 0.14285714285714285, 0.0],\n",
       " [0.1111111111111111, 0.5555555555555556, 0.3333333333333333, 0.0],\n",
       " [0.8823529411764706, 0.058823529411764705, 0.058823529411764705, 0.0],\n",
       " [0.05263157894736842, 0.15789473684210525, 0.7894736842105263, 0.0],\n",
       " [0.13793103448275862,\n",
       "  0.7241379310344828,\n",
       "  0.10344827586206896,\n",
       "  0.034482758620689655],\n",
       " [0.5, 0.0625, 0.375, 0.0625],\n",
       " [0.7272727272727273,\n",
       "  0.045454545454545456,\n",
       "  0.18181818181818182,\n",
       "  0.045454545454545456],\n",
       " [0.2222222222222222, 0.2222222222222222, 0.5555555555555556, 0.0],\n",
       " [0.0, 0.09090909090909091, 0.9090909090909091, 0.0],\n",
       " [0.7391304347826086,\n",
       "  0.043478260869565216,\n",
       "  0.17391304347826086,\n",
       "  0.043478260869565216],\n",
       " [1.0, 0.0, 0.0, 0.0],\n",
       " [0.5333333333333333,\n",
       "  0.3333333333333333,\n",
       "  0.06666666666666667,\n",
       "  0.06666666666666667],\n",
       " [0.17391304347826086, 0.5217391304347826, 0.30434782608695654, 0.0],\n",
       " [0.25, 0.25, 0.25, 0.25],\n",
       " [0.42857142857142855, 0.42857142857142855, 0.14285714285714285, 0.0],\n",
       " [1.0, 0.0, 0.0, 0.0],\n",
       " [0.3333333333333333, 0.0, 0.3333333333333333, 0.3333333333333333],\n",
       " [0.0, 0.125, 0.875, 0.0],\n",
       " [0.14285714285714285, 0.07142857142857142, 0.7857142857142857, 0.0],\n",
       " [0.0, 1.0, 0.0, 0.0],\n",
       " [0.05263157894736842, 0.21052631578947367, 0.7368421052631579, 0.0],\n",
       " [0.4827586206896552, 0.41379310344827586, 0.10344827586206896, 0.0],\n",
       " [0.17857142857142858,\n",
       "  0.6785714285714286,\n",
       "  0.10714285714285714,\n",
       "  0.03571428571428571],\n",
       " [0.0, 0.75, 0.25, 0.0],\n",
       " [0.17857142857142858,\n",
       "  0.6785714285714286,\n",
       "  0.10714285714285714,\n",
       "  0.03571428571428571],\n",
       " [0.5714285714285714, 0.11428571428571428, 0.3142857142857143, 0.0],\n",
       " [0.08333333333333333, 0.041666666666666664, 0.875, 0.0],\n",
       " [0.09523809523809523, 0.38095238095238093, 0.5238095238095238, 0.0],\n",
       " [0.5555555555555556, 0.1111111111111111, 0.3333333333333333, 0.0],\n",
       " [0.0, 0.08333333333333333, 0.9166666666666666, 0.0],\n",
       " [0.18181818181818182,\n",
       "  0.5454545454545454,\n",
       "  0.18181818181818182,\n",
       "  0.09090909090909091],\n",
       " [0.8333333333333334, 0.0, 0.16666666666666666, 0.0],\n",
       " [0.05263157894736842, 0.10526315789473684, 0.8421052631578947, 0.0],\n",
       " [1.0, 0.0, 0.0, 0.0],\n",
       " [0.0, 0.0, 0.8571428571428571, 0.14285714285714285],\n",
       " [0.14285714285714285, 0.03571428571428571, 0.8214285714285714, 0.0],\n",
       " [0.3333333333333333, 0.13333333333333333, 0.5333333333333333, 0.0],\n",
       " [0.7777777777777778, 0.1111111111111111, 0.0, 0.1111111111111111],\n",
       " [0.8888888888888888, 0.1111111111111111, 0.0, 0.0],\n",
       " [0.08333333333333333, 0.08333333333333333, 0.8333333333333334, 0.0],\n",
       " [0.08695652173913043, 0.08695652173913043, 0.8260869565217391, 0.0],\n",
       " [0.5238095238095238, 0.3333333333333333, 0.14285714285714285, 0.0],\n",
       " [0.8333333333333334, 0.0, 0.16666666666666666, 0.0],\n",
       " [0.6875, 0.0625, 0.1875, 0.0625],\n",
       " [0.7142857142857143, 0.21428571428571427, 0.07142857142857142, 0.0],\n",
       " [0.07142857142857142, 0.03571428571428571, 0.8928571428571429, 0.0],\n",
       " [0.7692307692307693, 0.15384615384615385, 0.0, 0.07692307692307693],\n",
       " [0.7142857142857143, 0.14285714285714285, 0.14285714285714285, 0.0],\n",
       " [0.5, 0.0, 0.5, 0.0],\n",
       " [0.42857142857142855, 0.14285714285714285, 0.42857142857142855, 0.0],\n",
       " [0.5, 0.0, 0.5, 0.0],\n",
       " [0.5625, 0.0625, 0.3125, 0.0625],\n",
       " [0.6666666666666666, 0.041666666666666664, 0.2916666666666667, 0.0],\n",
       " [0.6, 0.0, 0.4, 0.0],\n",
       " [0.0, 0.8, 0.0, 0.2],\n",
       " [0.8571428571428571, 0.047619047619047616, 0.09523809523809523, 0.0],\n",
       " [0.7777777777777778, 0.0, 0.2222222222222222, 0.0],\n",
       " [0.045454545454545456, 0.3181818181818182, 0.6363636363636364, 0.0],\n",
       " [0.03333333333333333, 0.03333333333333333, 0.9333333333333333, 0.0],\n",
       " [0.8846153846153846, 0.07692307692307693, 0.038461538461538464, 0.0],\n",
       " [0.5454545454545454, 0.36363636363636365, 0.09090909090909091, 0.0],\n",
       " [0.6428571428571429, 0.0, 0.07142857142857142, 0.2857142857142857],\n",
       " [0.4, 0.2, 0.2, 0.2],\n",
       " [0.5, 0.2727272727272727, 0.22727272727272727, 0.0]]"
      ]
     },
     "execution_count": 469,
     "metadata": {},
     "output_type": "execute_result"
    }
   ],
   "source": [
    "[x.dist for x in pred_list]"
   ]
  },
  {
   "cell_type": "code",
   "execution_count": 368,
   "metadata": {
    "code_folding": []
   },
   "outputs": [
    {
     "name": "stdout",
     "output_type": "stream",
     "text": [
      "number of node: 821 number of edge: 1162 average coefficient: 0.6650426309378806 . number of triangles: 4044\n"
     ]
    }
   ],
   "source": [
    "def verify_webpage_numbers(G):\n",
    "    num_edge = G.number_of_edges()\n",
    "    num_node = G.number_of_nodes()\n",
    "    avg_coe = nx.average_clustering(G)\n",
    "    t = nx.triangles(G)    \n",
    "    total_t = sum(t.values())\n",
    "    A = (G.subgraph(c) for c in nx.connected_components(G))\n",
    "    print('number of node:',num_node,'number of edge:',num_edge,'average coefficient:',avg_coe,'. number of triangles:', total_t)\n",
    "verify_webpage_numbers(G)"
   ]
  },
  {
   "cell_type": "code",
   "execution_count": 428,
   "metadata": {
    "code_folding": []
   },
   "outputs": [
    {
     "name": "stdout",
     "output_type": "stream",
     "text": [
      "821\n"
     ]
    }
   ],
   "source": [
    "#test graph\n",
    "count=0\n",
    "for node in list(G.nodes):\n",
    "    neighbors = list(G.neighbors(node))\n",
    "    #if not neighbors:\n",
    "        #print(node)\n",
    "        #print(G.nodes[node])\n",
    "        \n",
    "    if G.nodes[node]['label']!=0:\n",
    "        count+=1\n",
    "    else:\n",
    "        print('111',node)\n",
    "        print('111',G.nodes[node])\n",
    "print(count)"
   ]
  },
  {
   "cell_type": "code",
   "execution_count": null,
   "metadata": {},
   "outputs": [],
   "source": [
    "#dict to graph\n",
    "G = nx.from_dict_of_lists(latlon_dict)\n",
    "for index,row in train.iterrows():\n",
    "    G.nodes[index]['label'] = row.brand\n",
    "    G.nodes[index]['train'] = 1\n",
    "for index,row in test.iterrows():\n",
    "    G.nodes[index]['label'] = 0\n",
    "    G.nodes[index]['train'] = 0\n",
    "H = G.copy()"
   ]
  }
 ],
 "metadata": {
  "kernelspec": {
   "display_name": "Python 3",
   "language": "python",
   "name": "python3"
  },
  "language_info": {
   "codemirror_mode": {
    "name": "ipython",
    "version": 3
   },
   "file_extension": ".py",
   "mimetype": "text/x-python",
   "name": "python",
   "nbconvert_exporter": "python",
   "pygments_lexer": "ipython3",
   "version": "3.8.3"
  }
 },
 "nbformat": 4,
 "nbformat_minor": 4
}
